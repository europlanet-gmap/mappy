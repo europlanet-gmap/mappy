{
 "cells": [
  {
   "cell_type": "code",
   "execution_count": 29,
   "metadata": {},
   "outputs": [
    {
     "name": "stdout",
     "output_type": "stream",
     "text": [
      "Populating the interactive namespace from numpy and matplotlib\n"
     ]
    },
    {
     "name": "stderr",
     "output_type": "stream",
     "text": [
      "/usr/lib/python3.9/site-packages/IPython/core/magics/pylab.py:159: UserWarning: pylab import has clobbered these variables: ['f']\n",
      "`%matplotlib` prevents importing * from pylab and numpy\n",
      "  warn(\"pylab import has clobbered these variables: %s\"  % clobbered +\n"
     ]
    }
   ],
   "source": [
    "%pylab inline\n",
    "from pathlib import Path\n",
    "import os"
   ]
  },
  {
   "cell_type": "code",
   "execution_count": 30,
   "metadata": {},
   "outputs": [],
   "source": [
    "path = Path(\"/home/luca/Code/mappy.git/qgis_plugin/qgismappy/providers/models\")"
   ]
  },
  {
   "cell_type": "code",
   "execution_count": 92,
   "metadata": {},
   "outputs": [],
   "source": [
    "def get_models(folder):\n",
    "    ofiles = []\n",
    "    for d, dirs, files in os.walk(path):\n",
    "        for f in files:\n",
    "            if f.lower().endswith(\".model3\"):\n",
    "                ofiles.append(Path(d).joinpath(f))\n",
    "    \n",
    "    return ofiles\n",
    "\n",
    "def parse_files(files):\n",
    "    out = []\n",
    "    for f in files:\n",
    "        with open(f) as ff:\n",
    "            s = BeautifulSoup(ff.read())\n",
    "            out.append(s)  \n",
    "            \n",
    "    return out\n"
   ]
  },
  {
   "cell_type": "code",
   "execution_count": 93,
   "metadata": {},
   "outputs": [],
   "source": [
    "from bs4 import BeautifulSoup"
   ]
  },
  {
   "cell_type": "code",
   "execution_count": 94,
   "metadata": {},
   "outputs": [],
   "source": [
    "import xml.etree.ElementTree as ET\n",
    "\n",
    "roots = []\n",
    "for f in ofiles:\n",
    "#     tree = ET.parse(f)\n",
    "#     root = tree.getroot()\n",
    "#     roots.append(root)\n",
    "    with open(f) as ff:\n",
    "        s = BeautifulSoup(ff.read())\n",
    "        roots.append(s)"
   ]
  },
  {
   "cell_type": "code",
   "execution_count": null,
   "metadata": {},
   "outputs": [],
   "source": [
    "import re"
   ]
  },
  {
   "cell_type": "code",
   "execution_count": 137,
   "metadata": {},
   "outputs": [],
   "source": [
    "def get_name_group(bs, values=True):\n",
    "    name = bs.find(attrs={\"name\":\"model_name\"})\n",
    "    group = bs.find(attrs={\"name\":\"model_group\"})\n",
    "    if not values:\n",
    "        return name, group\n",
    "    else:\n",
    "        return name.attrs[\"value\"], group.attrs[\"value\"]\n",
    "\n",
    "def find_usage(bs_trees, name, group):\n",
    "    usages_names = []\n",
    "    usages_values = []\n",
    "    pattern = re.compile(f\".*{name}.*\")\n",
    "    \n",
    "    for bs in bs_trees:\n",
    "        found_names = bs.find_all(attrs={\"name\": pattern})\n",
    "        found_values = bs.find_all(attrs={\"value\": pattern})\n",
    "        usages_names += found_names\n",
    "        usages_values += found_values\n",
    "    return usages_names, usages_values\n",
    "        \n"
   ]
  },
  {
   "cell_type": "code",
   "execution_count": 140,
   "metadata": {},
   "outputs": [
    {
     "name": "stdout",
     "output_type": "stream",
     "text": [
      "Searching alg mappy:update found in:\n",
      "---> As value: update\n",
      "Searching alg mappy:extract_clean_contacts found in:\n",
      "---> As name: mappy:extract_clean_contacts_1\n",
      "---> As name: mappy:extract_clean_contacts_1:Clean Contacts\n",
      "---> As name: mappy:extract_clean_contacts_1:Clean Contacts\n",
      "---> As value: extract_clean_contacts\n",
      "---> As value: mappy:extract_clean_contacts\n",
      "---> As value: extract_clean_contacts\n",
      "---> As value: mappy:extract_clean_contacts_1\n",
      "---> As value: mappy:extract_clean_contacts_1\n",
      "---> As value: mappy:extract_clean_contacts_1:Clean Contacts\n",
      "Searching alg mappy:clean_lines found in:\n",
      "---> As name: mappy:clean_lines_1\n",
      "---> As name: mappy:clean_lines_1\n",
      "---> As name: model:clean_lines_1\n",
      "---> As name: model:clean_lines_1:polygons_lines\n",
      "---> As name: model:clean_lines_1:polygons_lines\n",
      "---> As value: mappy:clean_lines\n",
      "---> As value: clean_lines\n",
      "---> As value: mappy:clean_lines_1\n",
      "---> As value: mappy:clean_lines_1\n",
      "---> As value: clean_lines\n",
      "---> As value: mappy:clean_lines\n",
      "---> As value: clean_lines\n",
      "---> As value: mappy:clean_lines_1\n",
      "---> As value: mappy:clean_lines_1\n",
      "---> As value: model:clean_lines\n",
      "---> As value: clean_lines\n",
      "---> As value: model:clean_lines_1\n",
      "---> As value: model:clean_lines_1\n",
      "---> As value: model:clean_lines_1:polygons_lines\n",
      "Searching alg mappy:Map Construction found in:\n",
      "---> As value: Map Construction\n",
      "---> As value: Map Construction\n",
      "Searching alg mappy:polygons_to_lines found in:\n",
      "---> As value: polygons_to_lines\n"
     ]
    }
   ],
   "source": [
    "def list_names(trees):\n",
    "    for bs in trees:\n",
    "        n, g = get_name_group(bs)\n",
    "        print(f\"Found algorithm  {g}:{n}\")\n",
    "            \n",
    "bss= parse_files(get_models(path))\n",
    "# list_names(bss) \n",
    "for bs in bss:\n",
    "    name, group = get_name_group(bs)\n",
    "    print(f\"Searching alg {group}:{name} found in:\")\n",
    "    fn, fv = find_usage(bss, name, group)\n",
    "    if len(fn):\n",
    "        for a in fn:\n",
    "            nn = a.attrs[\"name\"]\n",
    "            print(f\"---> As name: {nn}\")\n",
    "    if len(fv):\n",
    "        for a in fv:\n",
    "            nn = a.attrs[\"value\"]\n",
    "            print(f\"---> As value: {nn}\")"
   ]
  },
  {
   "cell_type": "code",
   "execution_count": 65,
   "metadata": {},
   "outputs": [
    {
     "data": {
      "text/plain": [
       "'mappy'"
      ]
     },
     "execution_count": 65,
     "metadata": {},
     "output_type": "execute_result"
    }
   ],
   "source": [
    "name = s.find(attrs={\"name\":\"model_name\"})\n",
    "name.attrs[\"value\"]\n",
    "\n",
    "group = s.find(attrs={\"name\":\"model_group\"})\n",
    "group.attrs[\"value\"]"
   ]
  },
  {
   "cell_type": "code",
   "execution_count": 66,
   "metadata": {},
   "outputs": [],
   "source": [
    "group.attrs[\"value\"] = \"Utils\""
   ]
  },
  {
   "cell_type": "code",
   "execution_count": 112,
   "metadata": {},
   "outputs": [],
   "source": []
  },
  {
   "cell_type": "code",
   "execution_count": 113,
   "metadata": {},
   "outputs": [
    {
     "data": {
      "text/plain": [
       "[<option name=\"model:clean_lines_1\" type=\"Map\">\n",
       " </option>,\n",
       " <option name=\"model:clean_lines_1:polygons_lines\" type=\"QgsProcessingOutputLayerDefinition\">\n",
       " </option>,\n",
       " <option name=\"model:clean_lines_1:polygons_lines\" type=\"Map\">\n",
       " </option>]"
      ]
     },
     "execution_count": 113,
     "metadata": {},
     "output_type": "execute_result"
    }
   ],
   "source": []
  },
  {
   "cell_type": "code",
   "execution_count": null,
   "metadata": {},
   "outputs": [],
   "source": []
  }
 ],
 "metadata": {
  "kernelspec": {
   "display_name": "Python 3",
   "language": "python",
   "name": "python3"
  },
  "language_info": {
   "codemirror_mode": {
    "name": "ipython",
    "version": 3
   },
   "file_extension": ".py",
   "mimetype": "text/x-python",
   "name": "python",
   "nbconvert_exporter": "python",
   "pygments_lexer": "ipython3",
   "version": "3.9.2"
  }
 },
 "nbformat": 4,
 "nbformat_minor": 4
}
