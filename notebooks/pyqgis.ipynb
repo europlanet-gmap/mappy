{
 "cells": [
  {
   "cell_type": "code",
   "execution_count": 30,
   "metadata": {},
   "outputs": [],
   "source": [
    "from qgis.core import (\n",
    "    QgsVectorLayer, QgsLineString\n",
    ")\n",
    "import numpy as np"
   ]
  },
  {
   "cell_type": "code",
   "execution_count": 31,
   "metadata": {},
   "outputs": [],
   "source": [
    "lines = \"/data/Code/mappy.git/input_data/contacts/contacts.shp\"\n",
    "ll = QgsVectorLayer(lines)"
   ]
  },
  {
   "cell_type": "code",
   "execution_count": 32,
   "metadata": {},
   "outputs": [],
   "source": [
    "feats  = list(ll.getFeatures())"
   ]
  },
  {
   "cell_type": "code",
   "execution_count": 35,
   "metadata": {},
   "outputs": [],
   "source": [
    "out = []\n",
    "\n",
    "for f in feats[:1]:\n",
    "    g = f.geometry()\n",
    "    for p in g.parts():\n",
    "        verts = list(p.vertices())\n",
    "        pts = np.array([[p.x(), p.y()] for p in verts])"
   ]
  },
  {
   "cell_type": "code",
   "execution_count": 36,
   "metadata": {},
   "outputs": [
    {
     "data": {
      "text/plain": [
       "array([[   71.88137126,  -139.18164418],\n",
       "       [  339.2141771 ,  -254.69581954],\n",
       "       [  735.19151908,  -372.29994853],\n",
       "       [ 1203.84903055,  -448.20926377],\n",
       "       [ 1873.83124766,  -510.91695896],\n",
       "       [ 2048.75271321,  -510.91695896],\n",
       "       [ 2672.52926017,  -593.42708422],\n",
       "       [ 3332.61026224,  -629.73153934],\n",
       "       [ 3550.43699292,  -649.5339694 ],\n",
       "       [ 3834.27182381,  -692.43923453],\n",
       "       [ 4081.80219959,  -751.84652472],\n",
       "       [ 4075.20138957,  -814.55421992],\n",
       "       [ 3962.98761922,  -936.6692053 ],\n",
       "       [ 3854.07425388, -1108.29026584],\n",
       "       [ 3784.76574866, -1388.82469172],\n",
       "       [ 3788.06615367, -1761.77045789],\n",
       "       [ 3824.37060878, -1999.39961864],\n",
       "       [ 4009.19328936, -2243.62958941],\n",
       "       [ 4279.82650021, -2461.45632009],\n",
       "       [ 4279.82650021, -2461.45632009]])"
      ]
     },
     "execution_count": 36,
     "metadata": {},
     "output_type": "execute_result"
    }
   ],
   "source": [
    "pts"
   ]
  },
  {
   "cell_type": "code",
   "execution_count": 28,
   "metadata": {},
   "outputs": [
    {
     "data": {
      "text/plain": [
       "[[82.7427035953749, -3294.0350527820183],\n",
       " [82.7427035953749, -132.2470528530215],\n",
       " [4274.257066758033, -132.2470528530215],\n",
       " [4274.257066758033, -3294.0350527820183],\n",
       " [82.7427035953749, -3294.0350527820183]]"
      ]
     },
     "execution_count": 28,
     "metadata": {},
     "output_type": "execute_result"
    }
   ],
   "source": []
  },
  {
   "cell_type": "code",
   "execution_count": 27,
   "metadata": {},
   "outputs": [
    {
     "data": {
      "text/plain": [
       "82.7427035953749"
      ]
     },
     "execution_count": 27,
     "metadata": {},
     "output_type": "execute_result"
    }
   ],
   "source": [
    "p = list(vv.vertices())[0]\n",
    "p.x()"
   ]
  },
  {
   "cell_type": "code",
   "execution_count": 7,
   "metadata": {},
   "outputs": [
    {
     "name": "stdout",
     "output_type": "stream",
     "text": [
      "[<QgsPoint: Point (62.70168540777643784 -135.21511325372037504)>, <QgsPoint: Point (339.214177103409952 -254.69581954195717799)>, <QgsPoint: Point (735.19151908176729648 -372.29994852874176559)>, <QgsPoint: Point (1203.84903055349673195 -448.20926376712054662)>, <QgsPoint: Point (1873.8312476574478751 -510.91695896404200994)>, <QgsPoint: Point (2048.75271320675528841 -510.91695896404200994)>, <QgsPoint: Point (2672.52926016560604694 -593.42708422314922245)>, <QgsPoint: Point (3332.61026223846465655 -629.7315393371565051)>, <QgsPoint: Point (3550.4369929225076703 -649.53396939934225429)>, <QgsPoint: Point (3834.27182381383681786 -692.43923453407808211)>, <QgsPoint: Point (4081.80219959115856909 -751.84652472063532969)>, <QgsPoint: Point (4075.20138957043036498 -814.55421991755667932)>, <QgsPoint: Point (3962.98761921804407393 -936.66920530103550391)>, <QgsPoint: Point (3854.07425387602233968 -1108.29026583997892885)>, <QgsPoint: Point (3784.76574865837255857 -1388.82469172094351961)>, <QgsPoint: Point (3788.06615366873666062 -1761.77045789210842486)>, <QgsPoint: Point (3824.37060878274405695 -1999.39961863833741518)>, <QgsPoint: Point (4009.19328936314468592 -2243.62958940529415486)>, <QgsPoint: Point (4279.82650021301651577 -2461.45632008933762336)>, <QgsPoint: Point EMPTY>]\n"
     ]
    }
   ],
   "source": [
    "newfeats = []\n",
    "for f in feats[:1]:\n",
    "    if f.hasGeometry():\n",
    "        newfeats.append(f)\n",
    "        \n",
    "    gg = f.geometry()\n",
    "    gg.isMultipart()\n",
    "\n",
    "\n",
    "    for ff in gg.parts():\n",
    "        l = QgsLineString(list(ff.vertices()))\n",
    "\n",
    "        l.extend(10,10)\n",
    "        print(list(l.vertices()))\n",
    "    "
   ]
  },
  {
   "cell_type": "code",
   "execution_count": 29,
   "metadata": {},
   "outputs": [],
   "source": [
    "g = f.geometry()"
   ]
  },
  {
   "cell_type": "code",
   "execution_count": 35,
   "metadata": {},
   "outputs": [],
   "source": [
    "import shapely\n",
    "import shapely.geometry\n",
    "import shapely.wkt\n",
    "\n",
    "P = shapely.wkt.loads(g.asWkt())\n"
   ]
  },
  {
   "cell_type": "code",
   "execution_count": 36,
   "metadata": {},
   "outputs": [
    {
     "data": {
      "image/svg+xml": [
       "<svg xmlns=\"http://www.w3.org/2000/svg\" xmlns:xlink=\"http://www.w3.org/1999/xlink\" width=\"300\" height=\"300\" viewBox=\"-84.9178709311314 -3461.6956273085248 4526.835512215671 3497.1091489820096\" preserveAspectRatio=\"xMinYMin meet\"><g transform=\"matrix(1,0,0,-1,0,-3426.28210563504)\"><g><polyline fill=\"none\" stroke=\"#66cc99\" stroke-width=\"30.17890341477114\" points=\"82.7427035953749,-3294.0350527820183 82.7427035953749,-132.2470528530215 4274.257066758033,-132.2470528530215 4274.257066758033,-3294.0350527820183 82.7427035953749,-3294.0350527820183\" opacity=\"0.8\" /></g></g></svg>"
      ],
      "text/plain": [
       "<shapely.geometry.multilinestring.MultiLineString at 0x7f52b3127820>"
      ]
     },
     "execution_count": 36,
     "metadata": {},
     "output_type": "execute_result"
    }
   ],
   "source": [
    "P"
   ]
  },
  {
   "cell_type": "code",
   "execution_count": null,
   "metadata": {},
   "outputs": [],
   "source": []
  }
 ],
 "metadata": {
  "jupytext": {
   "cell_metadata_filter": "all",
   "notebook_metadata_filter": "all,-language_info",
   "text_representation": {
    "extension": ".py",
    "format_name": "percent",
    "format_version": "1.3",
    "jupytext_version": "1.5.2"
   }
  },
  "kernelspec": {
   "display_name": "Python 3",
   "language": "python",
   "name": "python3"
  },
  "language_info": {
   "codemirror_mode": {
    "name": "ipython",
    "version": 3
   },
   "file_extension": ".py",
   "mimetype": "text/x-python",
   "name": "python",
   "nbconvert_exporter": "python",
   "pygments_lexer": "ipython3",
   "version": "3.8.5"
  }
 },
 "nbformat": 4,
 "nbformat_minor": 4
}
