{
 "cells": [
  {
   "cell_type": "code",
   "execution_count": 21,
   "metadata": {},
   "outputs": [
    {
     "data": {
      "text/plain": [
       "False"
      ]
     },
     "execution_count": 21,
     "metadata": {},
     "output_type": "execute_result"
    }
   ],
   "source": [
    "import sys\n",
    "import os\n",
    "import numpy as np\n",
    "import qgis\n",
    "from qgis.gui import *\n",
    "from qgis.core import *\n",
    "from qgis.utils import plugins\n",
    "from PyQt5.QtCore import *\n",
    "from qgis.analysis import QgsNativeAlgorithms\n",
    "\n",
    "sys.path.append('/usr/share/qgis/python/plugins/')\n",
    "sys.path.append('/usr/share/qgis/python/')\n",
    "\n",
    "QgsApplication.setPrefixPath('/usr', True)\n",
    "app = QgsApplication([], False)\n",
    "app.initQgis()\n",
    "\n",
    "import processing\n",
    "from processing.core.Processing import Processing\n",
    "Processing.initialize()\n",
    "\n",
    "QgsApplication.processingRegistry().addProvider(QgsNativeAlgorithms())\n",
    "# for alg in QgsApplication.processingRegistry().algorithms():\n",
    "#         print(alg.id(), \"--->\", alg.displayName())\n",
    "\n",
    "# Stop QGIS appllication\n",
    "# app.exitQgis()\n",
    "# app.exit()"
   ]
  },
  {
   "cell_type": "code",
   "execution_count": 22,
   "metadata": {},
   "outputs": [],
   "source": [
    "import itertools"
   ]
  },
  {
   "cell_type": "code",
   "execution_count": 23,
   "metadata": {},
   "outputs": [
    {
     "name": "stdout",
     "output_type": "stream",
     "text": [
      "/home/luca/Code/mappy.git/input_data/qgis_project.qgz\n"
     ]
    }
   ],
   "source": [
    "from qgis.core import QgsProject, QgsApplication\n",
    "# Get the project instance\n",
    "project = QgsProject.instance()\n",
    "# Print the current project file name (might be empty in case no projects have been loaded)\n",
    "# print(project.fileName())\n",
    "\n",
    "# Load  project\n",
    "project.read(f\"/home/luca/Code/mappy.git/input_data/qgis_project.qgz\")\n",
    "# project.read(\"/home/luca/Code/mappy.git/input_data/mars/mars.qgz\")\n",
    "print(project.fileName())"
   ]
  },
  {
   "cell_type": "code",
   "execution_count": 24,
   "metadata": {},
   "outputs": [],
   "source": [
    "# project.mapLayers()\n",
    "# cont = project.mapLayersByName(\"contacts\")[0]\n",
    "# cont = project.mapLayersByName(\"closed_contact\")[0]\n",
    "\n",
    "# pols = project.mapLayersByName(\"map\")[0]"
   ]
  },
  {
   "cell_type": "code",
   "execution_count": 25,
   "metadata": {},
   "outputs": [
    {
     "data": {
      "text/plain": [
       "<QgsVectorLayer: 'exploded' (ogr)>"
      ]
     },
     "execution_count": 25,
     "metadata": {},
     "output_type": "execute_result"
    }
   ],
   "source": [
    "ex = project.mapLayersByName(\"exploded\")[0]\n",
    "ex"
   ]
  },
  {
   "cell_type": "code",
   "execution_count": 26,
   "metadata": {},
   "outputs": [
    {
     "data": {
      "text/plain": [
       "<function QgsFeature.geometry>"
      ]
     },
     "execution_count": 26,
     "metadata": {},
     "output_type": "execute_result"
    }
   ],
   "source": [
    "ln1.geometry"
   ]
  },
  {
   "cell_type": "code",
   "execution_count": 120,
   "metadata": {},
   "outputs": [
    {
     "data": {
      "text/plain": [
       "True"
      ]
     },
     "execution_count": 120,
     "metadata": {},
     "output_type": "execute_result"
    }
   ],
   "source": [
    "\n",
    "index = QgsSpatialIndex() # Spatial index\n",
    "\n",
    "index.addFeatures(ex.getFeatures())"
   ]
  },
  {
   "cell_type": "code",
   "execution_count": 121,
   "metadata": {},
   "outputs": [
    {
     "data": {
      "text/plain": [
       "6.617556385250989"
      ]
     },
     "execution_count": 121,
     "metadata": {},
     "output_type": "execute_result"
    }
   ],
   "source": [
    "p1.distance(p2)"
   ]
  },
  {
   "cell_type": "code",
   "execution_count": 122,
   "metadata": {},
   "outputs": [],
   "source": [
    "def equal_segments(seg1, seg2, threshold=1e-6):\n",
    "    s1_s, s1_e = seg1.vertices()\n",
    "    s2_s, s2_e = seg2.vertices()\n",
    "    \n",
    "    \n",
    "    if s1_s.distance(s2_s) < threshold and s1_e.distance(s2_e) < threshold:\n",
    "        return True\n",
    "    \n",
    "    if s1_s.distance(s2_e) < threshold and s1_e.distance(s2_s) < threshold:\n",
    "        return True\n",
    "    else:\n",
    "        return False"
   ]
  },
  {
   "cell_type": "code",
   "execution_count": 123,
   "metadata": {},
   "outputs": [
    {
     "name": "stdout",
     "output_type": "stream",
     "text": [
      "CPU times: user 4.44 s, sys: 1.6 s, total: 6.04 s\n",
      "Wall time: 6.06 s\n"
     ]
    }
   ],
   "source": [
    "%%time\n",
    "todel = []\n",
    "for ln in ex.getFeatures():\n",
    "    index.deleteFeature(ln)\n",
    "    \n",
    "    cands = index.intersects(ln.geometry().boundingBox())\n",
    "        \n",
    "    ln1 = ln.geometry()   \n",
    "    for ca in cands:\n",
    "        totest = ex.getFeature(ca)\n",
    "        ln2 = totest.geometry()\n",
    "       \n",
    "        are_equal = equal_segments(ln1, ln2)\n",
    "        if are_equal:\n",
    "            index.deleteFeature(totest)\n",
    "            todel.append(ca)\n",
    "        \n",
    "#     print(f\"{ln.id()} cands: {cands}\")"
   ]
  },
  {
   "cell_type": "code",
   "execution_count": 124,
   "metadata": {},
   "outputs": [],
   "source": [
    "def save_to_geopackage( gpkg_filename,  layer,layername=\"layer\"):\n",
    "    opts = QgsVectorFileWriter.SaveVectorOptions()\n",
    "    opts.driverName = \"GPKG\"\n",
    "    opts.layerName = layername\n",
    "    opts.actionOnExistingFile = QgsVectorFileWriter.CreateOrOverwriteLayer\n",
    "    \n",
    "    \n",
    "    return QgsVectorFileWriter.writeAsVectorFormatV2(layer, gpkg_filename, QgsCoordinateTransformContext(), opts)   "
   ]
  },
  {
   "cell_type": "code",
   "execution_count": null,
   "metadata": {},
   "outputs": [],
   "source": []
  },
  {
   "cell_type": "code",
   "execution_count": 125,
   "metadata": {},
   "outputs": [
    {
     "data": {
      "text/plain": [
       "(0, '')"
      ]
     },
     "execution_count": 125,
     "metadata": {},
     "output_type": "execute_result"
    }
   ],
   "source": [
    "vl = QgsVectorLayer(\"LineString\", \"temp\", \"memory\")\n",
    "pr = vl.dataProvider()\n",
    "\n",
    "for f in ex.getFeatures():\n",
    "    if f.id() not in todel:\n",
    "        \n",
    "        pr.addFeature(f)\n",
    "vl.updateExtents() \n",
    "\n",
    "\n",
    "save_to_geopackage(\"ciao.gpkg\", vl, \"testing3\")"
   ]
  },
  {
   "cell_type": "code",
   "execution_count": 70,
   "metadata": {},
   "outputs": [
    {
     "name": "stderr",
     "output_type": "stream",
     "text": [
      "/usr/lib/python3.9/site-packages/ipykernel/ipkernel.py:283: DeprecationWarning: `should_run_async` will not call `transform_cell` automatically in the future. Please pass the result to `transformed_cell` argument and any exception that happen during thetransform in `preprocessing_exc_tuple` in IPython 7.17 and above.\n",
      "  and should_run_async(code)\n"
     ]
    },
    {
     "data": {
      "text/plain": [
       "4.927726237058912"
      ]
     },
     "execution_count": 70,
     "metadata": {},
     "output_type": "execute_result"
    }
   ],
   "source": [
    "v = a-b\n",
    "np.linalg.norm(v)"
   ]
  },
  {
   "cell_type": "code",
   "execution_count": 12,
   "metadata": {},
   "outputs": [],
   "source": [
    "for f in ex.getFeatures():\n",
    "    print(f)"
   ]
  },
  {
   "cell_type": "code",
   "execution_count": 132,
   "metadata": {},
   "outputs": [],
   "source": [
    "def multi_to_single_part(layer):\n",
    "    o = processing.run(\"native:multiparttosingleparts\", {\"INPUT\": layer, \"OUTPUT\": \"TEMPORARY_OUTPUT\"})[\"OUTPUT\"]\n",
    "    return o"
   ]
  },
  {
   "cell_type": "code",
   "execution_count": 133,
   "metadata": {},
   "outputs": [],
   "source": [
    "cont = multi_to_single_part(cont)\n",
    "\n",
    "\n"
   ]
  },
  {
   "cell_type": "code",
   "execution_count": 142,
   "metadata": {},
   "outputs": [],
   "source": [
    "def explode_in_sub_segments(line_geometry):\n",
    "    verts = list(line_geometry.vertices())\n",
    "\n",
    "    sub_lines = []\n",
    "    \n",
    "    for segid, ( v1, v2 ) in enumerate(zip(verts, verts[1:])):\n",
    "        line = QgsGeometry.fromPolyline([v1,v2])\n",
    "        line.segid = segid\n",
    "        sub_lines.append(line)\n",
    "        \n",
    "    return sub_lines"
   ]
  },
  {
   "cell_type": "code",
   "execution_count": null,
   "metadata": {},
   "outputs": [],
   "source": []
  },
  {
   "cell_type": "code",
   "execution_count": 143,
   "metadata": {},
   "outputs": [],
   "source": [
    "out = {}\n",
    "for f in cont.getFeatures():\n",
    "    g = f.geometry()\n",
    "    out[f.id()] = explode_in_sub_segments(g)\n",
    "    "
   ]
  },
  {
   "cell_type": "code",
   "execution_count": 145,
   "metadata": {},
   "outputs": [],
   "source": [
    "for fid in out.keys():\n",
    "    line = out[fid]"
   ]
  },
  {
   "cell_type": "code",
   "execution_count": 148,
   "metadata": {},
   "outputs": [
    {
     "data": {
      "text/plain": [
       "0"
      ]
     },
     "execution_count": 148,
     "metadata": {},
     "output_type": "execute_result"
    }
   ],
   "source": [
    "line[0].segid"
   ]
  },
  {
   "cell_type": "code",
   "execution_count": 120,
   "metadata": {},
   "outputs": [],
   "source": [
    "def find_intersections(lines):\n",
    "    ints = []\n",
    "    for l1, l2 in itertools.combinations(lines, 2):\n",
    "        if l1.crosses(l2):\n",
    "            i = l1.intersection(l2)\n",
    "            ints.append(i)\n",
    "            \n",
    "    return ints\n",
    "\n",
    "def find_intersections2(lines):\n",
    "    ints = []\n",
    "    for l1, l2 in itertools.combinations(lines, 2):\n",
    "        if l1.crosses(l2):\n",
    "            i = l1.intersection(l2)\n",
    "            ints.append(i)\n",
    "            continue\n",
    "        \n",
    "        \n",
    "        if l1.intersects(l2):\n",
    "            i = l1.intersection(l2)\n",
    "            if i.type() == QgsWkbTypes.geometryType(QgsWkbTypes.LineString):\n",
    "                for p in i.vertices():\n",
    "                    ints.append(QgsGeometry (p))\n",
    "            \n",
    "    return ints"
   ]
  },
  {
   "cell_type": "code",
   "execution_count": 121,
   "metadata": {},
   "outputs": [],
   "source": [
    "def find_self_intersections(line_feature):\n",
    "    \n",
    "    g = line_feature.geometry()\n",
    "    sublines = explode_in_sub_segments(g)\n",
    "    return find_intersections2(sublines)\n",
    "    \n",
    "        \n",
    "        "
   ]
  },
  {
   "cell_type": "code",
   "execution_count": null,
   "metadata": {},
   "outputs": [],
   "source": []
  },
  {
   "cell_type": "code",
   "execution_count": 122,
   "metadata": {},
   "outputs": [],
   "source": [
    "out = []\n",
    "for f in cont.getFeatures():\n",
    "    ints = find_self_intersections(f)\n",
    "    if len(ints) > 2:\n",
    "        ints = [ints[0], ints[-1]]\n",
    "    out +=  ints\n"
   ]
  },
  {
   "cell_type": "code",
   "execution_count": 123,
   "metadata": {},
   "outputs": [
    {
     "data": {
      "text/plain": [
       "[<QgsGeometry: Point (222.78929466406384563 21.66631021340212016)>,\n",
       " <QgsGeometry: Point (230.27228378488533167 19.44297040052873982)>,\n",
       " <QgsGeometry: Point (216.88297380846066176 19.67275779342391928)>,\n",
       " <QgsGeometry: Point (237.19705918755019525 22.15844848522790045)>,\n",
       " <QgsGeometry: Point (236.97271161054095501 19.32606032548467923)>,\n",
       " <QgsGeometry: Point (239.50042096200135688 21.08595473084476168)>,\n",
       " <QgsGeometry: Point (240.41739365293409492 21.35917438094644893)>,\n",
       " <QgsGeometry: Point (233.12588223301591484 18.46159058581272205)>,\n",
       " <QgsGeometry: Point (234.92066284909083151 18.46159058581272205)>]"
      ]
     },
     "execution_count": 123,
     "metadata": {},
     "output_type": "execute_result"
    }
   ],
   "source": [
    "out"
   ]
  },
  {
   "cell_type": "code",
   "execution_count": 124,
   "metadata": {},
   "outputs": [],
   "source": [
    "vl = QgsVectorLayer(\"Point\", \"temp\", \"memory\")\n",
    "pr = vl.dataProvider()\n",
    "\n",
    "for p in out:\n",
    "    f = QgsFeature()\n",
    "    f.setGeometry(p)\n",
    "    pr.addFeature(f)\n",
    "vl.updateExtents() "
   ]
  },
  {
   "cell_type": "code",
   "execution_count": 125,
   "metadata": {},
   "outputs": [
    {
     "data": {
      "text/plain": [
       "(0, '')"
      ]
     },
     "execution_count": 125,
     "metadata": {},
     "output_type": "execute_result"
    }
   ],
   "source": [
    "save_to_geopackage(\"ciao.gpkg\", vl, \"testing\")"
   ]
  },
  {
   "cell_type": "code",
   "execution_count": null,
   "metadata": {},
   "outputs": [],
   "source": [
    "\n",
    "        "
   ]
  },
  {
   "cell_type": "code",
   "execution_count": 64,
   "metadata": {},
   "outputs": [
    {
     "name": "stderr",
     "output_type": "stream",
     "text": [
      "/usr/lib/python3.9/site-packages/ipykernel/ipkernel.py:283: DeprecationWarning: `should_run_async` will not call `transform_cell` automatically in the future. Please pass the result to `transformed_cell` argument and any exception that happen during thetransform in `preprocessing_exc_tuple` in IPython 7.17 and above.\n",
      "  and should_run_async(code)\n"
     ]
    }
   ],
   "source": [
    "def get_spatial_index(lines):\n",
    "    index = QgsSpatialIndex() # Spatial index\n",
    "\n",
    "    for line in lines:\n",
    "        f = QgsFeature()\n",
    "        f.setGeometry(line)\n",
    "        index.insertFeature(f)\n",
    "        \n",
    "    return index"
   ]
  },
  {
   "cell_type": "code",
   "execution_count": 13,
   "metadata": {},
   "outputs": [],
   "source": [
    "def explode_lines(layer):\n",
    "    return processing.run(\"native:explodelines\", {\"INPUT\": layer, \"OUTPUT\": \"TEMPORARY_OUTPUT\"})[\"OUTPUT\"]\n",
    "\n",
    "\n",
    "\n",
    "ex = explode_lines(cont)\n",
    "\n",
    "def drop_field(layer, fieldname=\"fid\"):\n",
    "    if fieldname not in layer.fields().names():\n",
    "        return False\n",
    "    else:\n",
    "        id = layer.fields().indexFromName(fieldname)\n",
    "        layer.dataProvider().deleteAttributes([id])\n",
    "        layer.updateFields()\n",
    "        return True\n",
    "        \n",
    "# drop_field(ex)\n",
    "\n",
    "def rename_field(layer, old, new):\n",
    "    if old not in layer.fields().names():\n",
    "        return False\n",
    "    else:\n",
    "        id = layer.fields().indexFromName(old)\n",
    "        dp = ex.dataProvider()\n",
    "        dp.renameAttributes({id:new})\n",
    "        layer.updateFields()\n",
    "        return True\n",
    "           \n"
   ]
  },
  {
   "cell_type": "code",
   "execution_count": 14,
   "metadata": {},
   "outputs": [
    {
     "data": {
      "text/plain": [
       "True"
      ]
     },
     "execution_count": 14,
     "metadata": {},
     "output_type": "execute_result"
    }
   ],
   "source": [
    "cont = multi_to_single_part(cont)\n",
    "rename_field(cont, \"fid\", \"original_fid\")"
   ]
  },
  {
   "cell_type": "code",
   "execution_count": 15,
   "metadata": {},
   "outputs": [
    {
     "data": {
      "text/plain": [
       "<QgsVectorLayer: 'Single parts' (memory)>"
      ]
     },
     "execution_count": 15,
     "metadata": {},
     "output_type": "execute_result"
    }
   ],
   "source": [
    "cont"
   ]
  },
  {
   "cell_type": "code",
   "execution_count": null,
   "metadata": {},
   "outputs": [],
   "source": []
  },
  {
   "cell_type": "code",
   "execution_count": null,
   "metadata": {},
   "outputs": [],
   "source": []
  },
  {
   "cell_type": "code",
   "execution_count": 16,
   "metadata": {},
   "outputs": [],
   "source": [
    "# for f in ex.getFeatures():\n",
    "#     print(f.id())\n",
    "ex = cont"
   ]
  },
  {
   "cell_type": "code",
   "execution_count": 17,
   "metadata": {},
   "outputs": [],
   "source": [
    "\n",
    "\n",
    "# save_to_geopackage(\"ciao.gpkg\", ex, \"exploded\")"
   ]
  },
  {
   "cell_type": "code",
   "execution_count": 18,
   "metadata": {},
   "outputs": [],
   "source": [
    "def extract_feautures(layer):\n",
    "    lines = []\n",
    "    counter = 1\n",
    "    for f in cont.getFeatures():\n",
    "        fid = f.id()\n",
    "        g = f.geometry()\n",
    "        \n",
    "        if g.isMultipart():\n",
    "            for i, p in enumerate(g.parts()):\n",
    "                newf = QgsFeature(counter)\n",
    "                counter+=1\n",
    "\n",
    "                newf.setGeometry(g)\n",
    "                \n",
    "                \n",
    "                lines.append([fid, i, newf])\n",
    "        else:\n",
    "            newf = QgsFeature(counter)\n",
    "            counter+=1\n",
    "\n",
    "            newf.setGeometry(g)\n",
    "            lines.append([fid, None, newf])\n",
    "            \n",
    "    return lines\n",
    "\n",
    "def get_spatial_index(lines):\n",
    "    index = QgsSpatialIndex() # Spatial index\n",
    "\n",
    "    for line in lines:\n",
    "        index.insertFeature(line[-1])\n",
    "        \n",
    "    return index\n",
    "\n",
    "\n",
    "def get_features_spatial_index(layer):\n",
    "    index = QgsSpatialIndex() # Spatial index\n",
    "\n",
    "    for f in layer.getFeatures():\n",
    "        index.insertFeature(f)\n",
    "        \n",
    "    return index"
   ]
  },
  {
   "cell_type": "code",
   "execution_count": null,
   "metadata": {},
   "outputs": [],
   "source": []
  },
  {
   "cell_type": "code",
   "execution_count": 19,
   "metadata": {},
   "outputs": [
    {
     "name": "stderr",
     "output_type": "stream",
     "text": [
      "<ipython-input-18-bb8f810321db>:39: DeprecationWarning: QgsSpatialIndex.insertFeature() is deprecated\n",
      "  index.insertFeature(f)\n"
     ]
    }
   ],
   "source": [
    "# lines = extract_feautures(cont)\n",
    "index = get_features_spatial_index(cont)"
   ]
  },
  {
   "cell_type": "code",
   "execution_count": 32,
   "metadata": {},
   "outputs": [],
   "source": [
    "ints = []\n",
    "for f in cont.getFeatures():\n",
    "    ids = index.intersects(f.geometry().boundingBox())\n",
    "    newids = []\n",
    "    for fid in ids:\n",
    "        thisf = cont.getFeature(fid)\n",
    "        c = f.geometry().crosses(thisf.geometry())\n",
    "        if c:\n",
    "            ints.append(sorted([f.id(), fid]) + [\"C\"])\n",
    "#             print(\"cross\")\n",
    "            continue\n",
    "            \n",
    "        c = f.geometry().intersects(thisf.geometry())\n",
    "        if c:\n",
    "#             print(\"overlay\")\n",
    "            ints.append(sorted([f.id(), fid]) + [\"I\"])\n",
    "            continue\n",
    "\n",
    "        "
   ]
  },
  {
   "cell_type": "code",
   "execution_count": 58,
   "metadata": {},
   "outputs": [
    {
     "data": {
      "text/plain": [
       "1"
      ]
     },
     "execution_count": 58,
     "metadata": {},
     "output_type": "execute_result"
    }
   ],
   "source": [
    "QgsWkbTypes.Point"
   ]
  },
  {
   "cell_type": "code",
   "execution_count": 51,
   "metadata": {},
   "outputs": [
    {
     "name": "stderr",
     "output_type": "stream",
     "text": [
      "/usr/lib/python3.9/site-packages/ipykernel/ipkernel.py:283: DeprecationWarning: `should_run_async` will not call `transform_cell` automatically in the future. Please pass the result to `transformed_cell` argument and any exception that happen during thetransform in `preprocessing_exc_tuple` in IPython 7.17 and above.\n",
      "  and should_run_async(code)\n"
     ]
    },
    {
     "data": {
      "text/plain": [
       "1"
      ]
     },
     "execution_count": 51,
     "metadata": {},
     "output_type": "execute_result"
    }
   ],
   "source": [
    "QgsWkbTypes.Point"
   ]
  },
  {
   "cell_type": "code",
   "execution_count": 59,
   "metadata": {},
   "outputs": [
    {
     "name": "stdout",
     "output_type": "stream",
     "text": [
      "0\n",
      "<QgsGeometry: Point (222.58088274010100349 15.49644258108680717)>\n",
      "0\n",
      "<QgsGeometry: Point (222.07708508845828987 18.19429328854174699)>\n",
      "1\n",
      "<QgsGeometry: MultiLineString ((222.52490522325189204 15.52443133951135579, 222.40548652064026669 15.52443133951135579),(222.40548652064026669 15.52443133951135579, 222.34577716933446823 15.55428601516426212),(222.34577716933446823 15.55428601516426212, 222.31592249368154057 15.55428601516426212),(222.31592249368154057 15.55428601516426212, 222.28606781802864134 15.58414069081716846),(222.28606781802864134 15.58414069081716846, 222.13679443976411676 15.58414069081716846),(222.13679443976411676 15.58414069081716846, 222.07708508845828987 15.6139953664700748),(222.07708508845828987 15.6139953664700748, 222.04723041280539064 15.64385004212298291),(222.04723041280539064 15.64385004212298291, 222.01737573715249141 15.67370471777588925),(222.01737573715249141 15.67370471777588925, 221.95766638584666453 15.67370471777588925),(221.95766638584666453 15.67370471777588925, 221.92781171019376529 15.70355939342879559),(221.92781171019376529 15.70355939342879559, 221.83824768323503918 15.70355939342879559),(221.8...>\n",
      "0\n",
      "<QgsGeometry: Point (222.8920301432092117 22.39987555180229251)>\n",
      "0\n",
      "<QgsGeometry: Point (228.33723738942703108 14.06155223251893815)>\n",
      "0\n",
      "<QgsGeometry: Point (225.13819406754265628 14.61285900743626875)>\n",
      "0\n",
      "<QgsGeometry: Point (223.65204612924364369 14.90115153520966729)>\n",
      "0\n",
      "<QgsGeometry: MultiPoint ((226.19081060446495712 17.99428377737998019),(226.19113141891358509 17.99460459182859751))>\n",
      "1\n",
      "<QgsGeometry: MultiLineString ((226.96494760176494765 17.7735808395235324, 226.91591867319965559 17.77703440279750779),(226.91591867319965559 17.77703440279750779, 227.01803390901426383 17.80271627527378087),(227.01803390901426383 17.80271627527378087, 227.02176574347089399 17.80271627527378087),(227.02176574347089399 17.80271627527378087, 227.02922941238409749 17.80644810973039327),(227.02922941238409749 17.80644810973039327, 227.04042491575395957 17.80644810973039327),(227.04042491575395957 17.80644810973039327, 227.05162041912379323 17.81391177864362163),(227.05162041912379323 17.81391177864362163, 227.05535225358039497 17.81764361310023403),(227.05535225358039497 17.81764361310023403, 227.06281592249362689 17.82137544755684644),(227.06281592249362689 17.82137544755684644, 227.06654775695022863 17.82137544755684644),(227.06654775695022863 17.82137544755684644, 227.0702795914068588 17.82510728201345884),(227.0702795914068588 17.82510728201345884, 227.07774326032009071 17.82510728201345884),(227.07...>\n",
      "0\n",
      "<QgsGeometry: Point (226.99622708815508076 17.79723188317547766)>\n",
      "1\n",
      "<QgsGeometry: MultiLineString ((228.14504791491148694 18.39607795387529876, 228.1413160804548852 18.39980978833191116),(228.1413160804548852 18.39980978833191116, 228.1413160804548852 18.41846896061497674),(228.1413160804548852 18.41846896061497674, 228.14504791491148694 18.4259326295282051),(228.14504791491148694 18.4259326295282051, 228.14504791491148694 18.4296644639848175),(228.14504791491148694 18.4296644639848175, 228.14877974936808869 18.44085996735465827),(228.14877974936808869 18.44085996735465827, 228.14877974936808869 18.44832363626788307),(228.14877974936808869 18.44832363626788307, 228.15251158382471885 18.45578730518111144),(228.15251158382471885 18.45578730518111144, 228.15997525273795077 18.46325097409433624),(228.15997525273795077 18.46325097409433624, 228.15997525273795077 18.46698280855094865),(228.15997525273795077 18.46698280855094865, 228.16370708719455251 18.47444647746417701),(228.16370708719455251 18.47444647746417701, 228.16743892165118268 18.48564198083401777),(228.1674389...>\n",
      "1\n",
      "<QgsGeometry: MultiLineString ((226.51796809182809511 17.34743247156695745, 226.52169992628469686 17.34743247156695745),(226.52169992628469686 17.34743247156695745, 226.52916359519792877 17.34743247156695745),(226.52916359519792877 17.34743247156695745, 226.54035909856776243 17.34743247156695745),(226.54035909856776243 17.34743247156695745, 226.54782276748099434 17.35116430602356985),(226.54782276748099434 17.35116430602356985, 226.55155460193759609 17.35116430602356985),(226.55155460193759609 17.35116430602356985, 226.559018270850828 17.35862797493679821),(226.559018270850828 17.35862797493679821, 226.56648193976405992 17.35862797493679821),(226.56648193976405992 17.35862797493679821, 226.57021377422066166 17.36235980939341061),(226.57021377422066166 17.36235980939341061, 226.57394560867729183 17.36235980939341061),(226.57394560867729183 17.36235980939341061, 226.57767744313389358 17.36609164385002302),(226.57767744313389358 17.36609164385002302, 226.58140927759052374 17.36609164385002302),(226.581...>\n",
      "1\n",
      "<QgsGeometry: MultiLineString ((232.89567317818026027 15.98158106044649429, 233.1643652590564102 16.75780262742206261),(233.1643652590564102 16.75780262742206261, 234.50782566343721669 17.17576808656275489))>\n",
      "0\n",
      "<QgsGeometry: Point (233.00307058380539615 16.29184023225244005)>\n",
      "0\n",
      "<QgsGeometry: Point (234.37968764585329495 17.13590292553664796)>\n",
      "0\n",
      "<QgsGeometry: Point (214.94895054746169194 19.638397277080756)>\n",
      "1\n",
      "<QgsGeometry: LineString (214.94895054746169194 19.638397277080756, 215.18049380197757614 20.19581622313749136)>\n",
      "0\n",
      "<QgsGeometry: Point (215.14816966281472332 20.11799885107877017)>\n",
      "0\n",
      "<QgsGeometry: MultiPoint ((216.09746830767980441 19.42918772224548718),(217.58834609358439138 21.76273556105267915))>\n",
      "1\n",
      "<QgsGeometry: LineString (216.09746830767980441 19.42918772224548007, 217.58834609358439138 21.76273556105267915)>\n",
      "0\n",
      "<QgsGeometry: Point (217.18499611373485436 21.13140515780992956)>\n",
      "0\n",
      "<QgsGeometry: Point (218.95002111340738793 20.03146204207198267)>\n",
      "0\n",
      "<QgsGeometry: Point (217.18499611373485436 21.13140515780992956)>\n",
      "1\n",
      "<QgsGeometry: LineString (216.71883068691522567 21.42191404698738566, 218.95002111340738793 20.03146204207197911)>\n",
      "0\n",
      "<QgsGeometry: Point (216.71883068691522567 21.42191404698737855)>\n",
      "0\n",
      "<QgsGeometry: Point (234.88685862106561331 18.09829658651671025)>\n",
      "0\n",
      "<QgsGeometry: Point (234.06920060296286579 17.92029124441780397)>\n",
      "1\n",
      "<QgsGeometry: LineString (234.0193635190142345 17.90944163861552596, 234.98925397356524059 18.12058820397473369)>\n",
      "0\n",
      "<QgsGeometry: Point (226.08167227248685549 17.94485479670768058)>\n",
      "1\n",
      "<QgsGeometry: MultiLineString ((222.58088274010100349 15.49644258108680539, 222.58834640901420698 15.51136991891322481),(222.58834640901420698 15.51136991891322481, 222.60327374684067081 15.54122459456613115),(222.60327374684067081 15.54122459456613115, 222.61820108466710622 15.57107927021903748),(222.61820108466710622 15.57107927021903748, 222.63312842249357004 15.58600660804549065),(222.63312842249357004 15.58600660804549065, 222.64805576032003387 15.63078862152485016),(222.64805576032003387 15.63078862152485016, 222.66298309814646927 15.66064329717775649),(222.66298309814646927 15.66064329717775649, 222.66298309814646927 15.67557063500420966),(222.66298309814646927 15.67557063500420966, 222.6779104359729331 15.69049797283066283),(222.6779104359729331 15.69049797283066283, 222.6779104359729331 15.705425310657116),(222.6779104359729331 15.705425310657116, 222.70776511162583233 15.73527998631002234),(222.70776511162583233 15.73527998631002234, 222.72269244945229616 15.76513466196292867),(222.7226924...>\n",
      "0\n",
      "<QgsGeometry: Point (224.54630054715255483 17.26034132748122474)>\n",
      "0\n",
      "<QgsGeometry: Point (222.58088274010100349 15.49644258108680717)>\n",
      "0\n",
      "<QgsGeometry: Point (224.54630054715255483 17.26034132748122474)>\n",
      "0\n",
      "<QgsGeometry: Point (225.325589524900181 17.73554325505475759)>\n",
      "0\n",
      "<QgsGeometry: MultiPoint ((226.19081060446495712 17.99428377737998019),(226.19113141891358509 17.99460459182859751))>\n",
      "0\n",
      "<QgsGeometry: Point (226.26196575177235104 18.01244612356946817)>\n",
      "0\n",
      "<QgsGeometry: Point (227.03502318770716784 17.58592515592073724)>\n",
      "0\n",
      "<QgsGeometry: Point (228.33723738942703108 14.06155223251893815)>\n",
      "0\n",
      "<QgsGeometry: Point (226.99622708815508076 17.79723188317547766)>\n",
      "1\n",
      "<QgsGeometry: MultiLineString ((226.96205639216501027 17.97438066027800829, 226.96205639216501027 17.91467130897219562),(226.96205639216501027 17.91467130897219562, 226.97698372999147409 17.86988929549283611),(226.97698372999147409 17.86988929549283611, 226.9919110678179095 17.81017994418702344),(226.9919110678179095 17.81017994418702344, 227.00683840564437332 17.76539793070766393),(227.00683840564437332 17.76539793070766393, 227.02176574347083715 17.70568857940185126),(227.02176574347083715 17.70568857940185126, 227.05162041912373638 17.67583390374894492),(227.05162041912373638 17.67583390374894492, 227.06654775695017179 17.63105189026958541),(227.06654775695017179 17.63105189026958541, 227.03341314866958101 17.58362042010086057),(227.03341314866958101 17.58362042010086057, 227.12625710825599867 17.46685117417860056),(227.12625710825599867 17.46685117417860056, 227.17103912173536173 17.40714182287278788),(227.17103912173536173 17.40714182287278788, 227.2307484730411602 17.33250513374051849),(227.23...>\n",
      "0\n",
      "<QgsGeometry: Point (225.89700819561744538 15.21876806146040018)>\n",
      "0\n",
      "<QgsGeometry: MultiPoint ((225.8696548979786769 15.25979800791857066),(227.23127924696709101 15.87210656711842027))>\n",
      "1\n",
      "<QgsGeometry: MultiLineString ((227.22328480412826934 15.88268744734626914, 227.47704954717795545 15.54682234625107107),(227.47704954717795545 15.54682234625107107, 227.47704954717795545 15.24081192080877933),(227.47704954717795545 15.24081192080877933, 226.76800100042143526 15.10646588037070082),(226.76800100042143526 15.10646588037070082, 225.96192475779295705 15.12139321819715398),(225.96192475779295705 15.12139321819715398, 225.86851172325393122 15.26151277000566964))>\n",
      "1\n",
      "<QgsGeometry: MultiLineString ((227.47302305711068016 15.55215152428128889, 227.79052364153349686 15.63638637320979008),(227.79052364153349686 15.63638637320979008, 227.88801781671224944 15.6895650142163916))>\n",
      "0\n",
      "<QgsGeometry: Point (225.13819406754265628 14.61285900743626875)>\n",
      "1\n",
      "<QgsGeometry: MultiLineString ((225.97685209561942088 15.32291227885427176, 225.63352332561098024 14.87509214406067493),(225.63352332561098024 14.87509214406067493, 225.13819406754265628 14.61285900743626698))>\n",
      "0\n",
      "<QgsGeometry: Point (225.89700819561744538 15.21876806146040018)>\n",
      "0\n",
      "<QgsGeometry: Point (216.46229962009138603 21.72044273575716744)>\n",
      "0\n",
      "<QgsGeometry: Point (216.79489936603704336 21.5613732920440242)>\n",
      "1\n",
      "<QgsGeometry: LineString (216.79489936603704336 21.5613732920440242, 216.46229962009138603 21.72044273575716744)>\n",
      "1\n",
      "<QgsGeometry: MultiLineString ((214.94895054746169194 19.638397277080756, 218.60250668095909532 18.97287961707565529),(218.60250668095909532 18.97287961707565529, 218.6994463814037033 19.93323108831612345),(218.6994463814037033 19.93323108831612345, 218.95002111340738793 20.03146204207198267),(218.95002111340738793 20.03146204207198267, 219.34322638499577351 20.44045169720686062),(219.34322638499577351 20.44045169720686062, 219.12863305046508344 21.17201988310695882),(219.12863305046508344 21.17201988310695882, 219.54246248471855552 21.83612960391217683),(219.54246248471855552 21.83612960391217683, 218.05566637781160466 21.9426050389217302),(218.05566637781160466 21.9426050389217302, 217.58834609358439138 21.76273556105267915),(217.58834609358439138 21.76273556105267915, 216.46229962009138603 21.72044273575716744))>\n",
      "0\n",
      "<QgsGeometry: MultiPoint ((216.09746830767980441 19.42918772224548718),(217.58834609358439138 21.76273556105267915))>\n",
      "0\n",
      "<QgsGeometry: Point (214.94895054746169194 19.638397277080756)>\n",
      "0\n",
      "<QgsGeometry: Point (218.95002111340738793 20.03146204207198267)>\n",
      "0\n",
      "<QgsGeometry: Point (216.46229962009138603 21.72044273575716744)>\n",
      "0\n",
      "<QgsGeometry: Point (216.71883068691522567 21.42191404698737855)>\n",
      "1\n",
      "<QgsGeometry: LineString (216.79489936603704336 21.5613732920440242, 216.62136906380453638 21.24323440461774481)>\n",
      "0\n",
      "<QgsGeometry: Point (216.79489936603704336 21.5613732920440242)>\n",
      "0\n",
      "<QgsGeometry: Point (216.66911901274102092 21.33077597766795819)>\n",
      "1\n",
      "<QgsGeometry: LineString (225.95607918897610489 17.99213967327321839, 227.08296023666002839 17.56787720790249807)>\n",
      "0\n",
      "<QgsGeometry: Point (226.08167227248685549 17.94485479670768058)>\n",
      "0\n",
      "<QgsGeometry: Point (226.31875905318159425 17.85559335931720071)>\n",
      "0\n",
      "<QgsGeometry: Point (227.03502318770716784 17.58592515592073724)>\n",
      "0\n",
      "<QgsGeometry: Point (234.6074567129545585 19.11432050207192646)>\n",
      "0\n",
      "<QgsGeometry: Point (233.62643487893373617 19.03885728407032474)>\n",
      "1\n",
      "<QgsGeometry: LineString (233.62643487893373617 19.03885728407032474, 234.75438184344508841 19.12562243518658178)>\n",
      "0\n",
      "<QgsGeometry: Point (234.37968764585329495 17.13590292553664796)>\n",
      "1\n",
      "<QgsGeometry: MultiLineString ((233.62643487893373617 19.03885728407032474, 234.18762868552502709 17.62110450952391005),(234.18762868552502709 17.62110450952391005, 234.45070381453817276 16.95649365728012725))>\n",
      "0\n",
      "<QgsGeometry: Point (233.62643487893373617 19.03885728407032474)>\n",
      "0\n",
      "<QgsGeometry: Point (234.06920060296286579 17.92029124441780397)>\n",
      "0\n",
      "<QgsGeometry: Point (226.38554017773196847 15.71876226862956294)>\n",
      "1\n",
      "<QgsGeometry: MultiLineString ((225.86637667597332779 15.25011235199371207, 225.94591139782988876 15.48510130293357712),(225.94591139782988876 15.48510130293357712, 226.40504365582009427 15.72912829044805427),(226.40504365582009427 15.72912829044805427, 226.9527486722414551 15.86469883906720746),(226.9527486722414551 15.86469883906720746, 227.29257884744680496 15.87373687564181779))>\n",
      "0\n",
      "<QgsGeometry: MultiPoint ((225.8696548979786769 15.25979800791857066),(227.23127924696709101 15.87210656711842027))>\n",
      "0\n",
      "<QgsGeometry: Point (224.54630054715255483 17.26034132748122474)>\n",
      "1\n",
      "<QgsGeometry: MultiLineString ((222.07708508845828987 18.19429328854174699, 224.54630054715255483 17.26034132748122474),(224.54630054715255483 17.26034132748122474, 224.74746774803665517 17.18425217896029267))>\n",
      "0\n",
      "<QgsGeometry: Point (222.07708508845828987 18.19429328854174699)>\n",
      "0\n",
      "<QgsGeometry: Point (224.54630054715255483 17.26034132748122474)>\n",
      "0\n",
      "<QgsGeometry: Point (226.26196575177235104 18.01244612356946817)>\n",
      "1\n",
      "<QgsGeometry: LineString (226.22179746426962765 18.06263635855517435, 226.33454697053824134 17.92175596344848643)>\n",
      "0\n",
      "<QgsGeometry: Point (215.14816966281472332 20.11799885107877017)>\n",
      "0\n",
      "<QgsGeometry: Point (216.66911901274102092 21.33077597766795819)>\n",
      "1\n",
      "<QgsGeometry: MultiLineString ((215.00536812426429378 20.11799885107877017, 215.71395019171373519 20.11799885107877017),(215.71395019171373519 20.11799885107877017, 216.75513200510883394 21.27486753262887831),(216.75513200510883394 21.27486753262887831, 216.61052341991506864 21.36886311300482433))>\n",
      "0\n",
      "<QgsGeometry: Point (233.00307058380539615 16.29184023225244005)>\n",
      "1\n",
      "<QgsGeometry: MultiLineString ((232.90791097125224951 16.27141048492464748, 235.46748292918186962 16.8209231086609492),(235.46748292918186962 16.8209231086609492, 234.81674429580994001 18.25254810207920997),(234.81674429580994001 18.25254810207920997, 234.57090970098053617 19.26480819843555636))>\n",
      "0\n",
      "<QgsGeometry: Point (234.6074567129545585 19.11432050207192646)>\n",
      "0\n",
      "<QgsGeometry: Point (234.88685862106561331 18.09829658651671025)>\n",
      "1\n",
      "<QgsGeometry: MultiLineString ((236.78342105444514232 18.46946097986985791, 236.79567962490892796 18.3966306494672871),(236.79567962490892796 18.3966306494672871, 237.02925564927451774 17.00891426941284124),(237.02925564927451774 17.00891426941284124, 240.36971396725047612 17.21136628868411123),(240.36971396725047612 17.21136628868411123, 239.92142735314979518 18.87436501841239433),(239.92142735314979518 18.87436501841239433, 236.79567962490892796 18.3966306494672871),(236.79567962490892796 18.3966306494672871, 236.60989075221260691 18.36823497023422291))>\n",
      "0\n",
      "<QgsGeometry: MultiPoint ((237.68696714592957164 17.04877557224041951),(238.80895916509456356 18.70433712940832294))>\n",
      "0\n",
      "<QgsGeometry: MultiPoint ((238.30419347302293431 18.62718953455021165),(238.94790496798540858 17.12519604630440995))>\n",
      "0\n",
      "<QgsGeometry: MultiPoint ((238.30419347302293431 18.62718953455021165),(238.94790496798540858 17.12519604630440995))>\n",
      "0\n",
      "<QgsGeometry: Point (238.47948402252666256 18.21817825237480548)>\n",
      "1\n",
      "<QgsGeometry: LineString (239.02485412494849015 16.94564801339056004, 238.09212875044872249 19.12200722055670354)>\n",
      "0\n",
      "<QgsGeometry: MultiPoint ((237.68696714592957164 17.04877557224041951),(238.80895916509456356 18.70433712940832294))>\n",
      "1\n",
      "<QgsGeometry: LineString (237.48477269263491962 16.75042642337897902, 239.11161927606477207 19.15092893759545944)>\n",
      "0\n",
      "<QgsGeometry: Point (238.47948402252666256 18.21817825237480548)>\n",
      "0\n",
      "<QgsGeometry: MultiPoint ((231.20763079897199077 21.64610167670297614),(234.391432795958508 20.28767949132205928))>\n",
      "1\n",
      "<QgsGeometry: MultiLineString ((231.11476451484958261 22.29616566555981549, 231.13484487797492761 22.15560312368235429),(231.13484487797492761 22.15560312368235429, 231.46182511931459658 19.86674143430458628),(231.46182511931459658 19.86674143430458628, 234.41184025726738582 20.15595860469211331),(234.41184025726738582 20.15595860469211331, 234.09370136984111355 22.20940051444355845),(234.09370136984111355 22.20940051444355845, 231.13484487797492761 22.15560312368235429),(231.13484487797492761 22.15560312368235429, 230.91231249557830552 22.1515570803660502))>\n",
      "0\n",
      "<QgsGeometry: MultiPoint ((231.46069339995221981 19.87466346984129117),(233.96587770971444797 22.20707644789580115))>\n",
      "0\n",
      "<QgsGeometry: Point (232.68590031028560361 21.01537335187583366)>\n",
      "0\n",
      "<QgsGeometry: MultiPoint ((231.46069339995221981 19.87466346984129117),(233.96587770971444797 22.20707644789580115))>\n",
      "1\n",
      "<QgsGeometry: LineString (231.17260794892706599 19.60644598095581159, 234.527527125422381 22.72999142114110782)>\n",
      "1\n",
      "<QgsGeometry: LineString (234.9035094469261935 20.06919345357585271, 230.56525189111326313 21.92018334405602786)>\n",
      "0\n",
      "<QgsGeometry: MultiPoint ((231.20763079897199077 21.64610167670297614),(234.391432795958508 20.28767949132205928))>\n",
      "0\n",
      "<QgsGeometry: Point (232.68590031028560361 21.01537335187583366)>\n",
      "0\n",
      "<QgsGeometry: Point (224.54630054715255483 17.26034132748122474)>\n",
      "0\n",
      "<QgsGeometry: Point (224.54630054715255483 17.26034132748122474)>\n",
      "0\n",
      "<QgsGeometry: Point (222.8920301432092117 22.39987555180229251)>\n",
      "1\n",
      "<QgsGeometry: LineString (224.54630054715255483 17.26034132748122474, 222.70577528583214644 22.97853742694289991)>\n",
      "1\n",
      "<QgsGeometry: MultiLineString ((224.76723845304337601 20.49567580444016102, 224.69578045578012393 20.74422536013846141),(224.69578045578012393 20.74422536013846141, 224.43463870709771868 21.65254448599020876),(224.43463870709771868 21.65254448599020876, 226.77729778723656295 22.04298766601334947),(226.77729778723656295 22.04298766601334947, 227.18220182577908872 20.88611898446330173),(227.18220182577908872 20.88611898446330173, 226.22778516350030031 19.94616318070389127),(226.22778516350030031 19.94616318070389127, 224.99861218935336638 20.59690181407579246),(224.99861218935336638 20.59690181407579246, 224.69578045578012393 20.74422536013846141),(224.69578045578012393 20.74422536013846141, 224.46356042413648879 20.85719726742455293))>\n",
      "1\n",
      "<QgsGeometry: MultiLineString ((214.39555970980273969 14.70843971126889471, 214.5622263764694253 17.76399526682445185),(214.5622263764694253 17.76399526682445185, 217.92333748758053957 17.45843971126889471),(217.92333748758053957 17.45843971126889471, 217.45111526535831104 14.12510637793556079),(217.45111526535831104 14.12510637793556079, 214.39555970980273969 14.70843971126889471))>\n",
      "0\n",
      "<QgsGeometry: Point (224.92104527837938122 16.31657366309181612)>\n",
      "0\n",
      "<QgsGeometry: Point (223.65204612924364369 14.90115153520966729)>\n",
      "0\n",
      "<QgsGeometry: Point (224.92104527837938122 16.31657366309181612)>\n",
      "0\n",
      "<QgsGeometry: Point (224.92104527837938122 16.31657366309181612)>\n",
      "1\n",
      "<QgsGeometry: LineString (223.47660083393492414 14.7054625519807054, 224.92104527837938122 16.31657366309181612)>\n",
      "1\n",
      "<QgsGeometry: LineString (224.92104527837938122 16.31657366309181612, 226.69882305615723794 15.59087921864738213)>\n",
      "0\n",
      "<QgsGeometry: Point (224.92104527837938122 16.31657366309181612)>\n",
      "0\n",
      "<QgsGeometry: Point (224.92104527837938122 16.31657366309181612)>\n",
      "0\n",
      "<QgsGeometry: Point (226.38554017773196847 15.71876226862956294)>\n",
      "0\n",
      "<QgsGeometry: Point (224.92104527837938122 16.31657366309181612)>\n",
      "0\n",
      "<QgsGeometry: Point (224.92104527837938122 16.31657366309181612)>\n",
      "0\n",
      "<QgsGeometry: Point (225.325589524900181 17.73554325505475759)>\n",
      "1\n",
      "<QgsGeometry: LineString (224.92104527837938122 16.31657366309181612, 225.37937861171278087 17.92421255198071606)>\n",
      "0\n",
      "<QgsGeometry: Point (224.92104527837938122 16.31657366309181612)>\n",
      "0\n",
      "<QgsGeometry: Point (224.92104527837938122 16.31657366309181612)>\n",
      "0\n",
      "<QgsGeometry: Point (224.92104527837938122 16.31657366309181612)>\n",
      "0\n",
      "<QgsGeometry: Point (226.31875905318159425 17.85559335931720071)>\n",
      "0\n",
      "<QgsGeometry: Point (224.92104527837938122 16.31657366309181612)>\n",
      "1\n",
      "<QgsGeometry: LineString (224.92104527837938122 16.31657366309181612, 226.81861472282395198 18.40598338531404465)>\n",
      "0\n",
      "<QgsGeometry: Point (224.92104527837938122 16.31657366309181612)>\n"
     ]
    }
   ],
   "source": [
    "out = []\n",
    "for ida, idb, typ in ints:\n",
    "    f1 = cont.getFeature(ida)\n",
    "    f2 = cont.getFeature(idb)\n",
    "#     print(f\"{ida} - {idb}\")\n",
    "    intersection = f1.geometry().intersection(f2.geometry())\n",
    "    itype = intersection.type()\n",
    "    print(itype)\n",
    "    print(intersection)\n",
    "    if itype == QgsWkbTypes.Point:\n",
    "        out.append(intersection)\n",
    "    elif itype == QgsWkbTypes.MultiPoint:\n",
    "        for p in intersection.parts():\n",
    "            out.append(p)"
   ]
  },
  {
   "cell_type": "code",
   "execution_count": 53,
   "metadata": {},
   "outputs": [
    {
     "data": {
      "text/plain": [
       "[<QgsGeometry: MultiLineString ((222.52490522325189204 15.52443133951135579, 222.40548652064026669 15.52443133951135579),(222.40548652064026669 15.52443133951135579, 222.34577716933446823 15.55428601516426212),(222.34577716933446823 15.55428601516426212, 222.31592249368154057 15.55428601516426212),(222.31592249368154057 15.55428601516426212, 222.28606781802864134 15.58414069081716846),(222.28606781802864134 15.58414069081716846, 222.13679443976411676 15.58414069081716846),(222.13679443976411676 15.58414069081716846, 222.07708508845828987 15.6139953664700748),(222.07708508845828987 15.6139953664700748, 222.04723041280539064 15.64385004212298291),(222.04723041280539064 15.64385004212298291, 222.01737573715249141 15.67370471777588925),(222.01737573715249141 15.67370471777588925, 221.95766638584666453 15.67370471777588925),(221.95766638584666453 15.67370471777588925, 221.92781171019376529 15.70355939342879559),(221.92781171019376529 15.70355939342879559, 221.83824768323503918 15.70355939342879559),(221.8...>,\n",
       " <QgsGeometry: MultiLineString ((226.96494760176494765 17.7735808395235324, 226.91591867319965559 17.77703440279750779),(226.91591867319965559 17.77703440279750779, 227.01803390901426383 17.80271627527378087),(227.01803390901426383 17.80271627527378087, 227.02176574347089399 17.80271627527378087),(227.02176574347089399 17.80271627527378087, 227.02922941238409749 17.80644810973039327),(227.02922941238409749 17.80644810973039327, 227.04042491575395957 17.80644810973039327),(227.04042491575395957 17.80644810973039327, 227.05162041912379323 17.81391177864362163),(227.05162041912379323 17.81391177864362163, 227.05535225358039497 17.81764361310023403),(227.05535225358039497 17.81764361310023403, 227.06281592249362689 17.82137544755684644),(227.06281592249362689 17.82137544755684644, 227.06654775695022863 17.82137544755684644),(227.06654775695022863 17.82137544755684644, 227.0702795914068588 17.82510728201345884),(227.0702795914068588 17.82510728201345884, 227.07774326032009071 17.82510728201345884),(227.07...>,\n",
       " <QgsGeometry: MultiLineString ((228.14504791491148694 18.39607795387529876, 228.1413160804548852 18.39980978833191116),(228.1413160804548852 18.39980978833191116, 228.1413160804548852 18.41846896061497674),(228.1413160804548852 18.41846896061497674, 228.14504791491148694 18.4259326295282051),(228.14504791491148694 18.4259326295282051, 228.14504791491148694 18.4296644639848175),(228.14504791491148694 18.4296644639848175, 228.14877974936808869 18.44085996735465827),(228.14877974936808869 18.44085996735465827, 228.14877974936808869 18.44832363626788307),(228.14877974936808869 18.44832363626788307, 228.15251158382471885 18.45578730518111144),(228.15251158382471885 18.45578730518111144, 228.15997525273795077 18.46325097409433624),(228.15997525273795077 18.46325097409433624, 228.15997525273795077 18.46698280855094865),(228.15997525273795077 18.46698280855094865, 228.16370708719455251 18.47444647746417701),(228.16370708719455251 18.47444647746417701, 228.16743892165118268 18.48564198083401777),(228.1674389...>,\n",
       " <QgsGeometry: MultiLineString ((226.51796809182809511 17.34743247156695745, 226.52169992628469686 17.34743247156695745),(226.52169992628469686 17.34743247156695745, 226.52916359519792877 17.34743247156695745),(226.52916359519792877 17.34743247156695745, 226.54035909856776243 17.34743247156695745),(226.54035909856776243 17.34743247156695745, 226.54782276748099434 17.35116430602356985),(226.54782276748099434 17.35116430602356985, 226.55155460193759609 17.35116430602356985),(226.55155460193759609 17.35116430602356985, 226.559018270850828 17.35862797493679821),(226.559018270850828 17.35862797493679821, 226.56648193976405992 17.35862797493679821),(226.56648193976405992 17.35862797493679821, 226.57021377422066166 17.36235980939341061),(226.57021377422066166 17.36235980939341061, 226.57394560867729183 17.36235980939341061),(226.57394560867729183 17.36235980939341061, 226.57767744313389358 17.36609164385002302),(226.57767744313389358 17.36609164385002302, 226.58140927759052374 17.36609164385002302),(226.581...>,\n",
       " <QgsGeometry: MultiLineString ((232.89567317818026027 15.98158106044649429, 233.1643652590564102 16.75780262742206261),(233.1643652590564102 16.75780262742206261, 234.50782566343721669 17.17576808656275489))>,\n",
       " <QgsGeometry: LineString (214.94895054746169194 19.638397277080756, 215.18049380197757614 20.19581622313749136)>,\n",
       " <QgsGeometry: LineString (216.09746830767980441 19.42918772224548007, 217.58834609358439138 21.76273556105267915)>,\n",
       " <QgsGeometry: LineString (216.71883068691522567 21.42191404698738566, 218.95002111340738793 20.03146204207197911)>,\n",
       " <QgsGeometry: LineString (234.0193635190142345 17.90944163861552596, 234.98925397356524059 18.12058820397473369)>,\n",
       " <QgsGeometry: MultiLineString ((222.58088274010100349 15.49644258108680539, 222.58834640901420698 15.51136991891322481),(222.58834640901420698 15.51136991891322481, 222.60327374684067081 15.54122459456613115),(222.60327374684067081 15.54122459456613115, 222.61820108466710622 15.57107927021903748),(222.61820108466710622 15.57107927021903748, 222.63312842249357004 15.58600660804549065),(222.63312842249357004 15.58600660804549065, 222.64805576032003387 15.63078862152485016),(222.64805576032003387 15.63078862152485016, 222.66298309814646927 15.66064329717775649),(222.66298309814646927 15.66064329717775649, 222.66298309814646927 15.67557063500420966),(222.66298309814646927 15.67557063500420966, 222.6779104359729331 15.69049797283066283),(222.6779104359729331 15.69049797283066283, 222.6779104359729331 15.705425310657116),(222.6779104359729331 15.705425310657116, 222.70776511162583233 15.73527998631002234),(222.70776511162583233 15.73527998631002234, 222.72269244945229616 15.76513466196292867),(222.7226924...>,\n",
       " <QgsGeometry: MultiLineString ((226.96205639216501027 17.97438066027800829, 226.96205639216501027 17.91467130897219562),(226.96205639216501027 17.91467130897219562, 226.97698372999147409 17.86988929549283611),(226.97698372999147409 17.86988929549283611, 226.9919110678179095 17.81017994418702344),(226.9919110678179095 17.81017994418702344, 227.00683840564437332 17.76539793070766393),(227.00683840564437332 17.76539793070766393, 227.02176574347083715 17.70568857940185126),(227.02176574347083715 17.70568857940185126, 227.05162041912373638 17.67583390374894492),(227.05162041912373638 17.67583390374894492, 227.06654775695017179 17.63105189026958541),(227.06654775695017179 17.63105189026958541, 227.03341314866958101 17.58362042010086057),(227.03341314866958101 17.58362042010086057, 227.12625710825599867 17.46685117417860056),(227.12625710825599867 17.46685117417860056, 227.17103912173536173 17.40714182287278788),(227.17103912173536173 17.40714182287278788, 227.2307484730411602 17.33250513374051849),(227.23...>,\n",
       " <QgsGeometry: MultiLineString ((227.22328480412826934 15.88268744734626914, 227.47704954717795545 15.54682234625107107),(227.47704954717795545 15.54682234625107107, 227.47704954717795545 15.24081192080877933),(227.47704954717795545 15.24081192080877933, 226.76800100042143526 15.10646588037070082),(226.76800100042143526 15.10646588037070082, 225.96192475779295705 15.12139321819715398),(225.96192475779295705 15.12139321819715398, 225.86851172325393122 15.26151277000566964))>,\n",
       " <QgsGeometry: MultiLineString ((227.47302305711068016 15.55215152428128889, 227.79052364153349686 15.63638637320979008),(227.79052364153349686 15.63638637320979008, 227.88801781671224944 15.6895650142163916))>,\n",
       " <QgsGeometry: MultiLineString ((225.97685209561942088 15.32291227885427176, 225.63352332561098024 14.87509214406067493),(225.63352332561098024 14.87509214406067493, 225.13819406754265628 14.61285900743626698))>,\n",
       " <QgsGeometry: LineString (216.79489936603704336 21.5613732920440242, 216.46229962009138603 21.72044273575716744)>,\n",
       " <QgsGeometry: MultiLineString ((214.94895054746169194 19.638397277080756, 218.60250668095909532 18.97287961707565529),(218.60250668095909532 18.97287961707565529, 218.6994463814037033 19.93323108831612345),(218.6994463814037033 19.93323108831612345, 218.95002111340738793 20.03146204207198267),(218.95002111340738793 20.03146204207198267, 219.34322638499577351 20.44045169720686062),(219.34322638499577351 20.44045169720686062, 219.12863305046508344 21.17201988310695882),(219.12863305046508344 21.17201988310695882, 219.54246248471855552 21.83612960391217683),(219.54246248471855552 21.83612960391217683, 218.05566637781160466 21.9426050389217302),(218.05566637781160466 21.9426050389217302, 217.58834609358439138 21.76273556105267915),(217.58834609358439138 21.76273556105267915, 216.46229962009138603 21.72044273575716744))>,\n",
       " <QgsGeometry: LineString (216.79489936603704336 21.5613732920440242, 216.62136906380453638 21.24323440461774481)>,\n",
       " <QgsGeometry: LineString (225.95607918897610489 17.99213967327321839, 227.08296023666002839 17.56787720790249807)>,\n",
       " <QgsGeometry: LineString (233.62643487893373617 19.03885728407032474, 234.75438184344508841 19.12562243518658178)>,\n",
       " <QgsGeometry: MultiLineString ((233.62643487893373617 19.03885728407032474, 234.18762868552502709 17.62110450952391005),(234.18762868552502709 17.62110450952391005, 234.45070381453817276 16.95649365728012725))>,\n",
       " <QgsGeometry: MultiLineString ((225.86637667597332779 15.25011235199371207, 225.94591139782988876 15.48510130293357712),(225.94591139782988876 15.48510130293357712, 226.40504365582009427 15.72912829044805427),(226.40504365582009427 15.72912829044805427, 226.9527486722414551 15.86469883906720746),(226.9527486722414551 15.86469883906720746, 227.29257884744680496 15.87373687564181779))>,\n",
       " <QgsGeometry: MultiLineString ((222.07708508845828987 18.19429328854174699, 224.54630054715255483 17.26034132748122474),(224.54630054715255483 17.26034132748122474, 224.74746774803665517 17.18425217896029267))>,\n",
       " <QgsGeometry: LineString (226.22179746426962765 18.06263635855517435, 226.33454697053824134 17.92175596344848643)>,\n",
       " <QgsGeometry: MultiLineString ((215.00536812426429378 20.11799885107877017, 215.71395019171373519 20.11799885107877017),(215.71395019171373519 20.11799885107877017, 216.75513200510883394 21.27486753262887831),(216.75513200510883394 21.27486753262887831, 216.61052341991506864 21.36886311300482433))>,\n",
       " <QgsGeometry: MultiLineString ((232.90791097125224951 16.27141048492464748, 235.46748292918186962 16.8209231086609492),(235.46748292918186962 16.8209231086609492, 234.81674429580994001 18.25254810207920997),(234.81674429580994001 18.25254810207920997, 234.57090970098053617 19.26480819843555636))>,\n",
       " <QgsGeometry: MultiLineString ((236.78342105444514232 18.46946097986985791, 236.79567962490892796 18.3966306494672871),(236.79567962490892796 18.3966306494672871, 237.02925564927451774 17.00891426941284124),(237.02925564927451774 17.00891426941284124, 240.36971396725047612 17.21136628868411123),(240.36971396725047612 17.21136628868411123, 239.92142735314979518 18.87436501841239433),(239.92142735314979518 18.87436501841239433, 236.79567962490892796 18.3966306494672871),(236.79567962490892796 18.3966306494672871, 236.60989075221260691 18.36823497023422291))>,\n",
       " <QgsGeometry: LineString (239.02485412494849015 16.94564801339056004, 238.09212875044872249 19.12200722055670354)>,\n",
       " <QgsGeometry: LineString (237.48477269263491962 16.75042642337897902, 239.11161927606477207 19.15092893759545944)>,\n",
       " <QgsGeometry: MultiLineString ((231.11476451484958261 22.29616566555981549, 231.13484487797492761 22.15560312368235429),(231.13484487797492761 22.15560312368235429, 231.46182511931459658 19.86674143430458628),(231.46182511931459658 19.86674143430458628, 234.41184025726738582 20.15595860469211331),(234.41184025726738582 20.15595860469211331, 234.09370136984111355 22.20940051444355845),(234.09370136984111355 22.20940051444355845, 231.13484487797492761 22.15560312368235429),(231.13484487797492761 22.15560312368235429, 230.91231249557830552 22.1515570803660502))>,\n",
       " <QgsGeometry: LineString (231.17260794892706599 19.60644598095581159, 234.527527125422381 22.72999142114110782)>,\n",
       " <QgsGeometry: LineString (234.9035094469261935 20.06919345357585271, 230.56525189111326313 21.92018334405602786)>,\n",
       " <QgsGeometry: LineString (224.54630054715255483 17.26034132748122474, 222.70577528583214644 22.97853742694289991)>,\n",
       " <QgsGeometry: MultiLineString ((224.76723845304337601 20.49567580444016102, 224.69578045578012393 20.74422536013846141),(224.69578045578012393 20.74422536013846141, 224.43463870709771868 21.65254448599020876),(224.43463870709771868 21.65254448599020876, 226.77729778723656295 22.04298766601334947),(226.77729778723656295 22.04298766601334947, 227.18220182577908872 20.88611898446330173),(227.18220182577908872 20.88611898446330173, 226.22778516350030031 19.94616318070389127),(226.22778516350030031 19.94616318070389127, 224.99861218935336638 20.59690181407579246),(224.99861218935336638 20.59690181407579246, 224.69578045578012393 20.74422536013846141),(224.69578045578012393 20.74422536013846141, 224.46356042413648879 20.85719726742455293))>,\n",
       " <QgsGeometry: MultiLineString ((214.39555970980273969 14.70843971126889471, 214.5622263764694253 17.76399526682445185),(214.5622263764694253 17.76399526682445185, 217.92333748758053957 17.45843971126889471),(217.92333748758053957 17.45843971126889471, 217.45111526535831104 14.12510637793556079),(217.45111526535831104 14.12510637793556079, 214.39555970980273969 14.70843971126889471))>,\n",
       " <QgsGeometry: LineString (223.47660083393492414 14.7054625519807054, 224.92104527837938122 16.31657366309181612)>,\n",
       " <QgsGeometry: LineString (224.92104527837938122 16.31657366309181612, 226.69882305615723794 15.59087921864738213)>,\n",
       " <QgsGeometry: LineString (224.92104527837938122 16.31657366309181612, 225.37937861171278087 17.92421255198071606)>,\n",
       " <QgsGeometry: LineString (224.92104527837938122 16.31657366309181612, 226.81861472282395198 18.40598338531404465)>]"
      ]
     },
     "execution_count": 53,
     "metadata": {},
     "output_type": "execute_result"
    }
   ],
   "source": [
    "out"
   ]
  },
  {
   "cell_type": "code",
   "execution_count": 11,
   "metadata": {},
   "outputs": [],
   "source": [
    "def removeDuplicates(lst): \n",
    "    return [t for t in (set(tuple(i) for i in lst))] \n",
    "\n",
    "ints = removeDuplicates(ints)"
   ]
  },
  {
   "cell_type": "code",
   "execution_count": 12,
   "metadata": {},
   "outputs": [],
   "source": [
    "idx = ex.fields().indexFromName('original_fid')\n",
    "\n",
    "pts = []\n",
    "for fida, fidb in ints:\n",
    "    fa = ex.getFeature(fida)\n",
    "    fb = ex.getFeature(fidb)\n",
    "    ga = fa.geometry()\n",
    "    gb = fb.geometry()\n",
    "    \n",
    "    \n",
    "    \n",
    "    \n",
    "\n",
    "    oa = fa.attributes()[idx]\n",
    "    ob = fb.attributes()[idx]\n",
    "    \n",
    "    \n",
    "    \n",
    "    if oa != ob:\n",
    "        pass\n",
    "    \n",
    "    if 1:\n",
    "        \n",
    "        pt = ga.intersection(gb)\n",
    "        pts.append(pt)\n",
    "    \n",
    "    "
   ]
  },
  {
   "cell_type": "code",
   "execution_count": 13,
   "metadata": {},
   "outputs": [
    {
     "data": {
      "text/plain": [
       "[47, NULL]"
      ]
     },
     "execution_count": 13,
     "metadata": {},
     "output_type": "execute_result"
    }
   ],
   "source": [
    "f.attributes()"
   ]
  },
  {
   "cell_type": "code",
   "execution_count": 14,
   "metadata": {},
   "outputs": [],
   "source": [
    "vl = QgsVectorLayer(\"Point\", \"temp\", \"memory\")\n",
    "pr = vl.dataProvider()\n",
    "for pt in pts:\n",
    "    f = QgsFeature()\n",
    "    f.setGeometry(pt)\n",
    "    pr.addFeature(f)\n",
    "    \n",
    "    \n",
    "    \n",
    "    \n",
    "# f = QgsFeature()\n",
    "# f.setGeometry(QgsGeometry.fromPointXY(QgsPointXY(10,10)))\n",
    "# f.setAttributes([\"Ada L.\", 2, 0.3])\n",
    "# pr.addFeature(f)\n",
    "vl.updateExtents() "
   ]
  },
  {
   "cell_type": "code",
   "execution_count": 15,
   "metadata": {},
   "outputs": [
    {
     "data": {
      "text/plain": [
       "(0, '')"
      ]
     },
     "execution_count": 15,
     "metadata": {},
     "output_type": "execute_result"
    }
   ],
   "source": [
    "save_to_geopackage(\"ciao.gpkg\", vl, \"ints\")"
   ]
  },
  {
   "cell_type": "code",
   "execution_count": 14,
   "metadata": {},
   "outputs": [],
   "source": [
    "g = f.geometry()\n",
    "# g.splitGeometry?"
   ]
  },
  {
   "cell_type": "code",
   "execution_count": 15,
   "metadata": {},
   "outputs": [
    {
     "ename": "RuntimeError",
     "evalue": "No active exception to reraise",
     "output_type": "error",
     "traceback": [
      "\u001b[0;31m---------------------------------------------------------------------------\u001b[0m",
      "\u001b[0;31mRuntimeError\u001b[0m                              Traceback (most recent call last)",
      "\u001b[0;32m<ipython-input-15-9c9a2cba73bf>\u001b[0m in \u001b[0;36m<module>\u001b[0;34m\u001b[0m\n\u001b[0;32m----> 1\u001b[0;31m \u001b[0;32mraise\u001b[0m\u001b[0;34m\u001b[0m\u001b[0;34m\u001b[0m\u001b[0m\n\u001b[0m",
      "\u001b[0;31mRuntimeError\u001b[0m: No active exception to reraise"
     ]
    }
   ],
   "source": [
    "raise"
   ]
  },
  {
   "cell_type": "code",
   "execution_count": null,
   "metadata": {},
   "outputs": [],
   "source": [
    "cont.selectAll()\n",
    "cont = processing.run(\"native:saveselectedfeatures\", {'INPUT': cont, 'OUTPUT': 'TEMPORARY_OUTPUT'})['OUTPUT']\n",
    "\n",
    "pols.selectAll()\n",
    "pols = processing.run(\"native:saveselectedfeatures\", {'INPUT': pols, 'OUTPUT': 'TEMPORARY_OUTPUT'})['OUTPUT']"
   ]
  },
  {
   "cell_type": "code",
   "execution_count": null,
   "metadata": {},
   "outputs": [],
   "source": [
    "dissolved = processing.run(\"native:dissolve\", {'INPUT':pols,'FIELD':[],'OUTPUT':'TEMPORARY_OUTPUT'})[\"OUTPUT\"]\n",
    "\n",
    "dissolved #QgsProcessingUtils.generateTempFilename(\"dissolved.gpkg\")}"
   ]
  },
  {
   "cell_type": "code",
   "execution_count": null,
   "metadata": {},
   "outputs": [],
   "source": [
    "ex = processing.run(\"native:polygonfromlayerextent\", {\"INPUT\":cont, \"OUTPUT\":\"TEMPORARY_OUTPUT\"})[\"OUTPUT\"]\n",
    "\n",
    "ex1 = processing.run(\"native:buffer\",  {\"INPUT\":  ex, \"DISTANCE\":1e-2, \"OUTPUT\":\"TEMPORARY_OUTPUT\"})[\"OUTPUT\"]\n",
    "\n",
    "\n",
    "mask = processing.run(\"native:difference\", {'INPUT':ex1,'OVERLAY':dissolved,'OUTPUT':'TEMPORARY_OUTPUT'})[\"OUTPUT\"]"
   ]
  },
  {
   "cell_type": "code",
   "execution_count": null,
   "metadata": {},
   "outputs": [],
   "source": [
    "mask.featureCount()"
   ]
  },
  {
   "cell_type": "code",
   "execution_count": null,
   "metadata": {},
   "outputs": [],
   "source": []
  },
  {
   "cell_type": "code",
   "execution_count": null,
   "metadata": {},
   "outputs": [],
   "source": [
    "ff = list(mask.getFeatures())\n",
    "[f.geometry() for f in ff]"
   ]
  },
  {
   "cell_type": "code",
   "execution_count": null,
   "metadata": {},
   "outputs": [],
   "source": [
    "f = mask.getFeature(1)\n",
    "\n",
    "\n",
    "print(pols.addFeature(f, QgsFeatureSink.FastInsert))\n",
    "\n"
   ]
  },
  {
   "cell_type": "code",
   "execution_count": null,
   "metadata": {},
   "outputs": [],
   "source": [
    "pols.fields()"
   ]
  },
  {
   "cell_type": "code",
   "execution_count": null,
   "metadata": {},
   "outputs": [],
   "source": [
    "# [2021-02-21 11:20:37] processing.run(\"native:dissolve\", {'INPUT':'','FIELD':[],'OUTPUT':'TEMPORARY_OUTPUT'})\n",
    "# dis = processing.run(\"native:dissolve\", {\"INPUT\": pols, \"OUTPUT\":\"TEMPORARY_OUTPUT\"})\n"
   ]
  },
  {
   "cell_type": "code",
   "execution_count": null,
   "metadata": {},
   "outputs": [],
   "source": [
    "index = QgsSpatialIndex() # Spatial index\n",
    "\n",
    "for ft in pols.getFeatures():\n",
    "    \n",
    "    index.insertFeature(ft)\n"
   ]
  },
  {
   "cell_type": "code",
   "execution_count": null,
   "metadata": {},
   "outputs": [],
   "source": [
    "\n",
    "\n",
    "# pars = {'INPUT':cont2.id(),'OVERLAY':dissolved,'INPUT_FIELDS':[],'OVERLAY_FIELDS':[],'OVERLAY_FIELDS_PREFIX':'','OUTPUT':'TEMPORARY_OUTPUT'}\n",
    "# cont = processing.run(\"native:intersection\", pars)[\"OUTPUT\"]"
   ]
  },
  {
   "cell_type": "code",
   "execution_count": null,
   "metadata": {},
   "outputs": [],
   "source": [
    "# QgsVectorFileWriter.writeAsVectorFormat(cont,f\"output_pols\",'utf-8',driverName='ESRI Shapefile')    "
   ]
  },
  {
   "cell_type": "code",
   "execution_count": null,
   "metadata": {},
   "outputs": [],
   "source": [
    "outtable = []\n",
    "\n",
    "for f in cont.getFeatures():\n",
    "    fid = f.id()\n",
    "    \n",
    "    g = f.geometry()\n",
    "    if g.isEmpty() or not f.isValid() or g.length() < 1e-16:\n",
    "        continue\n",
    "        \n",
    "    \n",
    "    for pid, p in enumerate(g.parts()):\n",
    "        start = p[0]\n",
    "        end = p[-1]\n",
    "\n",
    "        outtable.append([fid, pid, [start, end]])\n",
    "            \n",
    "        \n",
    "        \n"
   ]
  },
  {
   "cell_type": "code",
   "execution_count": null,
   "metadata": {},
   "outputs": [],
   "source": []
  },
  {
   "cell_type": "code",
   "execution_count": null,
   "metadata": {},
   "outputs": [],
   "source": [
    "def find_polygons_containing_point(pt, index, polygons):\n",
    "    ids = index.intersects(pt.boundingBox()) # polygons intersecting the point\n",
    "    pp= polygons.getFeatures(ids)\n",
    "    real = []\n",
    "    for p, i in zip(pp, ids):\n",
    "        if p.geometry().contains(QgsPointXY(pt)):\n",
    "            real.append(p.id())\n",
    "            \n",
    "    return real\n",
    "            \n",
    "\n",
    "    "
   ]
  },
  {
   "cell_type": "code",
   "execution_count": null,
   "metadata": {},
   "outputs": [],
   "source": []
  },
  {
   "cell_type": "code",
   "execution_count": null,
   "metadata": {},
   "outputs": [],
   "source": [
    "exteriors = []\n",
    "cuttable = []\n",
    "for fid, pid, (start, end) in outtable:\n",
    "    mypols = []\n",
    "    pstart = find_polygons_containing_point(start, index, pols)\n",
    "    pend = find_polygons_containing_point(end, index, pols)\n",
    "    mypols += pend + pstart\n",
    "    \n",
    "    if len(mypols) >1:\n",
    "        cuttable.append([fid, pid, mypols])\n",
    "        \n",
    "    elif len(mypols) < 2:\n",
    "        exteriors.append([fid, pid])"
   ]
  },
  {
   "cell_type": "code",
   "execution_count": null,
   "metadata": {},
   "outputs": [],
   "source": []
  },
  {
   "cell_type": "code",
   "execution_count": null,
   "metadata": {},
   "outputs": [],
   "source": [
    "def get_sel(layer):\n",
    "    return processing.run(\"native:saveselectedfeatures\", {'INPUT':layer.id(),'OUTPUT':'TEMPORARY_OUTPUT'})[\"OUTPUT\"]"
   ]
  },
  {
   "cell_type": "code",
   "execution_count": null,
   "metadata": {},
   "outputs": [],
   "source": []
  },
  {
   "cell_type": "code",
   "execution_count": null,
   "metadata": {},
   "outputs": [],
   "source": [
    "# QgsProcessingFeatureSourceDefinition?"
   ]
  },
  {
   "cell_type": "code",
   "execution_count": null,
   "metadata": {},
   "outputs": [],
   "source": [
    "def clip_with_selection(lines, polygons):\n",
    "    pars = {\"INPUT\":QgsProcessingFeatureSourceDefinition(lines.id(), True),\n",
    "            \"OVERLAY\": QgsProcessingFeatureSourceDefinition(polygons.id(), True),\n",
    "            \"OUTPUT\":\"memory:\"}\n",
    "    \n",
    "    \n",
    "    return processing.run(\"native:difference\", pars)\n",
    "\n",
    "def clip_with_selection2(lines, polygons):\n",
    "    lin = processing.run(\"native:saveselectedfeatures\", {'INPUT':lines,'OUTPUT':'TEMPORARY_OUTPUT'})[\"OUTPUT\"]\n",
    "    pol = processing.run(\"native:saveselectedfeatures\", {'INPUT':polygons,'OUTPUT':'TEMPORARY_OUTPUT'})[\"OUTPUT\"]\n",
    "    \n",
    "    \n",
    "    pars = {\"INPUT\":lin,\n",
    "            \"OVERLAY\": pol,\n",
    "            \"OUTPUT\":'TEMPORARY_OUTPUT'}\n",
    "    \n",
    "    \n",
    "    return processing.run(\"native:difference\", pars)[\"OUTPUT\"]\n",
    "\n",
    "def clip_external(lines, dissolved):\n",
    "    lin = processing.run(\"native:saveselectedfeatures\", {'INPUT':lines,'OUTPUT':'TEMPORARY_OUTPUT'})[\"OUTPUT\"]\n",
    "    return processing.run(\"native:clip\", {\"INPUT\": lin, \"OVERLAY\":dissolved, \"OUTPUT\":\"TEMPORARY_OUTPUT\"})[\"OUTPUT\"]\n",
    "    \n",
    "    "
   ]
  },
  {
   "cell_type": "code",
   "execution_count": null,
   "metadata": {},
   "outputs": [],
   "source": []
  },
  {
   "cell_type": "code",
   "execution_count": null,
   "metadata": {},
   "outputs": [],
   "source": [
    "for i, (lineid, subid, polygons) in enumerate(cuttable):\n",
    "    pols.removeSelection()\n",
    "    cont.removeSelection()\n",
    "    [pols.select(p) for p in polygons]\n",
    "    cont.select(lineid)\n",
    "    \n",
    "    o = clip_with_selection2(cont, pols)\n",
    "    \n",
    "    if o.featureCount() > 0:\n",
    "        f = o.getFeature(1)\n",
    "        gg = f.geometry()\n",
    "\n",
    "        cont.startEditing()\n",
    "        cont.changeGeometry(lineid,gg)\n",
    "        cont.commitChanges()"
   ]
  },
  {
   "cell_type": "code",
   "execution_count": null,
   "metadata": {},
   "outputs": [],
   "source": [
    "for i, (lineid, subid) in enumerate(exteriors):\n",
    "    dissolved.removeSelection()\n",
    "    cont.removeSelection()\n",
    "    cont.select(lineid)\n",
    "    \n",
    "    o = clip_external(cont, dissolved)\n",
    "    if o.featureCount() > 0:\n",
    "        f = o.getFeature(1)\n",
    "        gg = f.geometry()\n",
    "\n",
    "        cont.startEditing()\n",
    "        cont.changeGeometry(lineid,gg)\n",
    "        cont.commitChanges()\n",
    "    "
   ]
  },
  {
   "cell_type": "code",
   "execution_count": null,
   "metadata": {},
   "outputs": [],
   "source": [
    "cont"
   ]
  },
  {
   "cell_type": "code",
   "execution_count": null,
   "metadata": {},
   "outputs": [],
   "source": [
    "QgsVectorFileWriter.writeAsVectorFormat(cont,f\"output_pols\",'utf-8',driverName='ESRI Shapefile')    "
   ]
  },
  {
   "cell_type": "code",
   "execution_count": null,
   "metadata": {},
   "outputs": [],
   "source": [
    "# QgsVectorFileWriter.writeAsVectorFormat(cont,\"output\",'utf-8',driverName='ESRI Shapefile')"
   ]
  },
  {
   "cell_type": "code",
   "execution_count": null,
   "metadata": {},
   "outputs": [],
   "source": [
    "l = cont.getFeature(36)\n",
    "p = pols.getFeature(30)\n",
    "a"
   ]
  },
  {
   "cell_type": "code",
   "execution_count": null,
   "metadata": {},
   "outputs": [],
   "source": [
    "pols.removeSelection()"
   ]
  },
  {
   "cell_type": "code",
   "execution_count": null,
   "metadata": {},
   "outputs": [],
   "source": [
    "cont.select(36)\n",
    "pols.select(30)\n"
   ]
  },
  {
   "cell_type": "code",
   "execution_count": null,
   "metadata": {},
   "outputs": [],
   "source": [
    "pols.selectedFeatureIds()"
   ]
  },
  {
   "cell_type": "code",
   "execution_count": null,
   "metadata": {},
   "outputs": [],
   "source": []
  },
  {
   "cell_type": "code",
   "execution_count": null,
   "metadata": {},
   "outputs": [],
   "source": []
  },
  {
   "cell_type": "code",
   "execution_count": null,
   "metadata": {},
   "outputs": [],
   "source": [
    "print([a.id() for a in QgsApplication.processingRegistry().algorithms() if \"clip\" in a.id()])"
   ]
  },
  {
   "cell_type": "code",
   "execution_count": null,
   "metadata": {},
   "outputs": [],
   "source": [
    "[2021-02-15 11:39:59] processing.run(\"native:clip\", {'INPUT':QgsProcessingFeatureSourceDefinition('contacts_7768adb1_5e8e_4a87_a7b2_aebd7bb4303e', True),\n",
    "                                                     'OVERLAY':QgsProcessingFeatureSourceDefinition('map_62aaeba8_b51e_4242_82bc_ea14f8a87fbe', True),'OUTPUT':'TEMPORARY_OUTPUT'})"
   ]
  }
 ],
 "metadata": {
  "kernelspec": {
   "display_name": "Python 3",
   "language": "python",
   "name": "python3"
  },
  "language_info": {
   "codemirror_mode": {
    "name": "ipython",
    "version": 3
   },
   "file_extension": ".py",
   "mimetype": "text/x-python",
   "name": "python",
   "nbconvert_exporter": "python",
   "pygments_lexer": "ipython3",
   "version": "3.9.2"
  }
 },
 "nbformat": 4,
 "nbformat_minor": 4
}
