{
 "cells": [
  {
   "cell_type": "code",
   "execution_count": 1,
   "metadata": {},
   "outputs": [
    {
     "name": "stderr",
     "output_type": "stream",
     "text": [
      "/usr/share/qgis/python/plugins/processing/algs/qgis/ImportIntoSpatialite.py:103: SyntaxWarning: \"is\" with a literal. Did you mean \"==\"?\n",
      "  if uri.database() is '':\n",
      "/usr/share/qgis/python/plugins/processing/algs/qgis/SpatialiteExecuteSQL.py:69: SyntaxWarning: \"is\" with a literal. Did you mean \"==\"?\n",
      "  if uri.database() is '':\n",
      "/usr/share/qgis/python/plugins/processing/algs/grass7/Grass7Utils.py:191: SyntaxWarning: \"is\" with a literal. Did you mean \"==\"?\n",
      "  if path is '':\n"
     ]
    },
    {
     "data": {
      "text/plain": [
       "True"
      ]
     },
     "execution_count": 1,
     "metadata": {},
     "output_type": "execute_result"
    }
   ],
   "source": [
    "import sys\n",
    "import os\n",
    "\n",
    "import qgis\n",
    "from qgis.gui import *\n",
    "from qgis.core import *\n",
    "from qgis.utils import plugins\n",
    "from PyQt5.QtCore import *\n",
    "from qgis.analysis import QgsNativeAlgorithms\n",
    "\n",
    "sys.path.append('/usr/share/qgis/python/plugins/')\n",
    "sys.path.append('/usr/share/qgis/python/')\n",
    "\n",
    "QgsApplication.setPrefixPath('/usr', True)\n",
    "app = QgsApplication([], False)\n",
    "app.initQgis()\n",
    "\n",
    "import processing\n",
    "from processing.core.Processing import Processing\n",
    "Processing.initialize()\n",
    "\n",
    "QgsApplication.processingRegistry().addProvider(QgsNativeAlgorithms())\n",
    "# for alg in QgsApplication.processingRegistry().algorithms():\n",
    "#         print(alg.id(), \"--->\", alg.displayName())\n",
    "\n",
    "# Stop QGIS appllication\n",
    "# app.exitQgis()\n",
    "# app.exit()"
   ]
  },
  {
   "cell_type": "code",
   "execution_count": 2,
   "metadata": {},
   "outputs": [
    {
     "name": "stdout",
     "output_type": "stream",
     "text": [
      "/home/luca/Code/mappy.git/input_data/qgis_project.qgz\n"
     ]
    },
    {
     "name": "stderr",
     "output_type": "stream",
     "text": [
      "/usr/lib/python3.9/site-packages/ipykernel/ipkernel.py:283: DeprecationWarning: `should_run_async` will not call `transform_cell` automatically in the future. Please pass the result to `transformed_cell` argument and any exception that happen during thetransform in `preprocessing_exc_tuple` in IPython 7.17 and above.\n",
      "  and should_run_async(code)\n"
     ]
    }
   ],
   "source": [
    "from qgis.core import QgsProject, QgsApplication\n",
    "# Get the project instance\n",
    "project = QgsProject.instance()\n",
    "# Print the current project file name (might be empty in case no projects have been loaded)\n",
    "# print(project.fileName())\n",
    "\n",
    "# Load another project\n",
    "project.read(f\"/home/luca/Code/mappy.git/input_data/qgis_project.qgz\")\n",
    "print(project.fileName())"
   ]
  },
  {
   "cell_type": "code",
   "execution_count": 3,
   "metadata": {},
   "outputs": [],
   "source": [
    "project.mapLayers()\n",
    "cont = project.mapLayersByName(\"contacts\")[0]\n",
    "pols = project.mapLayersByName(\"map\")[0]"
   ]
  },
  {
   "cell_type": "code",
   "execution_count": 4,
   "metadata": {},
   "outputs": [
    {
     "name": "stderr",
     "output_type": "stream",
     "text": [
      "<ipython-input-4-01a47ce43a12>:3: DeprecationWarning: QgsSpatialIndex.insertFeature() is deprecated\n",
      "  index.insertFeature(ft)\n"
     ]
    }
   ],
   "source": [
    "index = QgsSpatialIndex() # Spatial index\n",
    "for ft in pols.getFeatures():\n",
    "    index.insertFeature(ft)\n"
   ]
  },
  {
   "cell_type": "code",
   "execution_count": 5,
   "metadata": {},
   "outputs": [],
   "source": [
    "outtable = []\n",
    "\n",
    "for fid, f in enumerate(cont.getFeatures()):\n",
    "    g = f.geometry()\n",
    "    if g.isEmpty():\n",
    "        continue\n",
    "    if g.isMultipart():\n",
    "        for pid, p in enumerate(g.parts()):\n",
    "            start = p[0]\n",
    "            end = p[-1]\n",
    "            \n",
    "            outtable.append([fid, pid, [start, end]])\n",
    "        \n"
   ]
  },
  {
   "cell_type": "code",
   "execution_count": null,
   "metadata": {},
   "outputs": [],
   "source": []
  },
  {
   "cell_type": "code",
   "execution_count": 6,
   "metadata": {},
   "outputs": [],
   "source": [
    "def find_inside(pt, index, polygons):\n",
    "    ids = index.intersects(pt.boundingBox())\n",
    "    \n",
    "    pp= polygons.getFeatures(ids)\n",
    "    real = []\n",
    "    for p, id in zip(pp, ids):\n",
    "        if p.geometry().contains(QgsPointXY(pt)):\n",
    "            real.append(id)\n",
    "            \n",
    "    return real\n",
    "            \n",
    "\n",
    "    "
   ]
  },
  {
   "cell_type": "code",
   "execution_count": 7,
   "metadata": {},
   "outputs": [],
   "source": [
    "cuttable = []\n",
    "for fid, pid, (start, end) in outtable:\n",
    "    real = find_inside(start, index, pols)\n",
    "            \n",
    "    if len(real) > 0:\n",
    "        cuttable.append([fid, pid, real[0]])\n",
    "        \n",
    "    real = find_inside(end, index, pols)\n",
    "            \n",
    "    if len(real) > 0:\n",
    "        cuttable.append([fid, pid, real[0]])"
   ]
  },
  {
   "cell_type": "code",
   "execution_count": 8,
   "metadata": {},
   "outputs": [],
   "source": [
    "tocut = cuttable[0]"
   ]
  },
  {
   "cell_type": "code",
   "execution_count": 9,
   "metadata": {},
   "outputs": [
    {
     "data": {
      "text/plain": [
       "[[32, 0, 10],\n",
       " [33, 0, 20],\n",
       " [34, 0, 10],\n",
       " [35, 0, 19],\n",
       " [36, 0, 30],\n",
       " [36, 0, 2],\n",
       " [37, 0, 29]]"
      ]
     },
     "execution_count": 9,
     "metadata": {},
     "output_type": "execute_result"
    }
   ],
   "source": [
    "cuttable"
   ]
  },
  {
   "cell_type": "code",
   "execution_count": 10,
   "metadata": {},
   "outputs": [],
   "source": [
    "l = cont.getFeature(36)\n",
    "p = pols.getFeature(30)\n"
   ]
  },
  {
   "cell_type": "code",
   "execution_count": 11,
   "metadata": {},
   "outputs": [],
   "source": [
    "cont.select(36)\n",
    "pols.select(30)\n"
   ]
  },
  {
   "cell_type": "code",
   "execution_count": 12,
   "metadata": {},
   "outputs": [
    {
     "data": {
      "text/plain": [
       "[30]"
      ]
     },
     "execution_count": 12,
     "metadata": {},
     "output_type": "execute_result"
    }
   ],
   "source": [
    "pols.selectedFeatureIds()"
   ]
  },
  {
   "cell_type": "code",
   "execution_count": 13,
   "metadata": {},
   "outputs": [
    {
     "data": {
      "text/plain": [
       "{'OUTPUT': 'output_file.shp'}"
      ]
     },
     "execution_count": 13,
     "metadata": {},
     "output_type": "execute_result"
    }
   ],
   "source": [
    "pars = {\"INPUT\":QgsProcessingFeatureSourceDefinition(cont.name(), True), \n",
    "        \"OVERLAY\": QgsProcessingFeatureSourceDefinition(pols.name(), True),\n",
    "        \"OUTPUT\":\"output_file.shp\"}\n",
    "\n",
    "processing.run(\"native:difference\",pars)"
   ]
  },
  {
   "cell_type": "code",
   "execution_count": 29,
   "metadata": {},
   "outputs": [
    {
     "name": "stdout",
     "output_type": "stream",
     "text": [
      "['gdal:cliprasterbyextent', 'gdal:cliprasterbymasklayer', 'gdal:clipvectorbyextent', 'gdal:clipvectorbypolygon', 'native:clip']\n"
     ]
    }
   ],
   "source": [
    "print([a.id() for a in QgsApplication.processingRegistry().algorithms() if \"clip\" in a.id()])"
   ]
  },
  {
   "cell_type": "code",
   "execution_count": null,
   "metadata": {},
   "outputs": [],
   "source": [
    "[2021-02-15 11:39:59] processing.run(\"native:clip\", {'INPUT':QgsProcessingFeatureSourceDefinition('contacts_7768adb1_5e8e_4a87_a7b2_aebd7bb4303e', True),\n",
    "                                                     'OVERLAY':QgsProcessingFeatureSourceDefinition('map_62aaeba8_b51e_4242_82bc_ea14f8a87fbe', True),'OUTPUT':'TEMPORARY_OUTPUT'})"
   ]
  }
 ],
 "metadata": {
  "kernelspec": {
   "display_name": "Python 3",
   "language": "python",
   "name": "python3"
  },
  "language_info": {
   "codemirror_mode": {
    "name": "ipython",
    "version": 3
   },
   "file_extension": ".py",
   "mimetype": "text/x-python",
   "name": "python",
   "nbconvert_exporter": "python",
   "pygments_lexer": "ipython3",
   "version": "3.9.1"
  }
 },
 "nbformat": 4,
 "nbformat_minor": 4
}
