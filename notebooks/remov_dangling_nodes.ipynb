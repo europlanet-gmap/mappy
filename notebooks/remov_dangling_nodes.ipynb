{
 "cells": [
  {
   "cell_type": "code",
   "execution_count": 1,
   "metadata": {},
   "outputs": [
    {
     "data": {
      "text/plain": [
       "True"
      ]
     },
     "execution_count": 1,
     "metadata": {},
     "output_type": "execute_result"
    }
   ],
   "source": [
    "import sys\n",
    "import os\n",
    "\n",
    "import qgis\n",
    "from qgis.gui import *\n",
    "from qgis.core import *\n",
    "from qgis.utils import plugins\n",
    "from PyQt5.QtCore import *\n",
    "from qgis.analysis import QgsNativeAlgorithms\n",
    "\n",
    "sys.path.append('/usr/share/qgis/python/plugins/')\n",
    "sys.path.append('/usr/share/qgis/python/')\n",
    "\n",
    "QgsApplication.setPrefixPath('/usr', True)\n",
    "app = QgsApplication([], False)\n",
    "app.initQgis()\n",
    "\n",
    "import processing\n",
    "from processing.core.Processing import Processing\n",
    "Processing.initialize()\n",
    "\n",
    "QgsApplication.processingRegistry().addProvider(QgsNativeAlgorithms())\n",
    "# for alg in QgsApplication.processingRegistry().algorithms():\n",
    "#         print(alg.id(), \"--->\", alg.displayName())\n",
    "\n",
    "# Stop QGIS appllication\n",
    "# app.exitQgis()\n",
    "# app.exit()"
   ]
  },
  {
   "cell_type": "code",
   "execution_count": null,
   "metadata": {},
   "outputs": [],
   "source": []
  },
  {
   "cell_type": "code",
   "execution_count": 2,
   "metadata": {},
   "outputs": [
    {
     "name": "stderr",
     "output_type": "stream",
     "text": [
      "/usr/lib/python3.9/site-packages/ipykernel/ipkernel.py:283: DeprecationWarning: `should_run_async` will not call `transform_cell` automatically in the future. Please pass the result to `transformed_cell` argument and any exception that happen during thetransform in `preprocessing_exc_tuple` in IPython 7.17 and above.\n",
      "  and should_run_async(code)\n"
     ]
    },
    {
     "name": "stdout",
     "output_type": "stream",
     "text": [
      "/home/luca/Code/mappy.git/input_data/mars/mars.qgz\n"
     ]
    }
   ],
   "source": [
    "from qgis.core import QgsProject, QgsApplication\n",
    "# Get the project instance\n",
    "project = QgsProject.instance()\n",
    "# Print the current project file name (might be empty in case no projects have been loaded)\n",
    "# print(project.fileName())\n",
    "\n",
    "# Load  project\n",
    "# project.read(f\"/home/luca/Code/mappy.git/input_data/qgis_project.qgz\")\n",
    "project.read(\"/home/luca/Code/mappy.git/input_data/mars/mars.qgz\")\n",
    "print(project.fileName())"
   ]
  },
  {
   "cell_type": "code",
   "execution_count": 3,
   "metadata": {},
   "outputs": [],
   "source": [
    "project.mapLayers()\n",
    "cont = project.mapLayersByName(\"contacts\")[0]\n",
    "pols = project.mapLayersByName(\"map\")[0]"
   ]
  },
  {
   "cell_type": "code",
   "execution_count": 16,
   "metadata": {},
   "outputs": [],
   "source": [
    "cont.selectAll()\n",
    "cont = processing.run(\"native:saveselectedfeatures\", {'INPUT': cont, 'OUTPUT': 'TEMPORARY_OUTPUT'})['OUTPUT']\n",
    "\n",
    "pols.selectAll()\n",
    "pols = processing.run(\"native:saveselectedfeatures\", {'INPUT': pols, 'OUTPUT': 'TEMPORARY_OUTPUT'})['OUTPUT']"
   ]
  },
  {
   "cell_type": "code",
   "execution_count": 19,
   "metadata": {},
   "outputs": [
    {
     "data": {
      "text/plain": [
       "<QgsVectorLayer: 'Dissolved' (memory)>"
      ]
     },
     "execution_count": 19,
     "metadata": {},
     "output_type": "execute_result"
    }
   ],
   "source": [
    "dissolved = processing.run(\"native:dissolve\", {'INPUT':pols,'FIELD':[],'OUTPUT':'TEMPORARY_OUTPUT'})[\"OUTPUT\"]\n",
    "\n",
    "dissolved #QgsProcessingUtils.generateTempFilename(\"dissolved.gpkg\")}"
   ]
  },
  {
   "cell_type": "code",
   "execution_count": 21,
   "metadata": {},
   "outputs": [],
   "source": [
    "ex = processing.run(\"native:polygonfromlayerextent\", {\"INPUT\":cont, \"OUTPUT\":\"TEMPORARY_OUTPUT\"})[\"OUTPUT\"]\n",
    "\n",
    "ex1 = processing.run(\"native:buffer\",  {\"INPUT\":  ex, \"DISTANCE\":1e-2, \"OUTPUT\":\"TEMPORARY_OUTPUT\"})[\"OUTPUT\"]\n",
    "\n",
    "\n",
    "mask = processing.run(\"native:difference\", {'INPUT':ex1,'OVERLAY':dissolved,'OUTPUT':'TEMPORARY_OUTPUT'})[\"OUTPUT\"]"
   ]
  },
  {
   "cell_type": "code",
   "execution_count": 25,
   "metadata": {},
   "outputs": [
    {
     "data": {
      "text/plain": [
       "1"
      ]
     },
     "execution_count": 25,
     "metadata": {},
     "output_type": "execute_result"
    }
   ],
   "source": [
    "mask.featureCount()"
   ]
  },
  {
   "cell_type": "code",
   "execution_count": null,
   "metadata": {},
   "outputs": [],
   "source": []
  },
  {
   "cell_type": "code",
   "execution_count": 24,
   "metadata": {},
   "outputs": [
    {
     "data": {
      "text/plain": [
       "[<QgsGeometry: MultiPolygon (((214.93895054746170103 13.79286015164277934, 214.93895054746170103 22.95824557708507285, 214.93943998229875092 22.96133574702882285, 214.94086037751793583 22.96412342960799791, 214.94307269493876333 22.96633574702882186, 214.94586037751793128 22.96775614224802453, 214.94895054746169194 22.96824557708507442, 240.36971396725047612 22.96824557708507442, 240.37280413719423677 22.96775614224802453, 240.37559181977340472 22.96633574702882186, 240.37780413719423223 22.96412342960799791, 240.37922453241341714 22.96133574702882285, 240.37971396725046702 22.95824557708507285, 240.37971396725046702 13.79286015164277934, 240.37922453241341714 13.78976998169902934, 240.37780413719423223 13.78698229911985429, 240.37559181977340472 13.78476998169903034, 240.37280413719423677 13.78334958647982766, 240.36971396725047612 13.78286015164277956, 214.94895054746169194 13.78286015164277956, 214.94586037751793128 13.78334958647982766, 214.94307269493876333 13.78476998169903034, 214.940860377517...>]"
      ]
     },
     "execution_count": 24,
     "metadata": {},
     "output_type": "execute_result"
    }
   ],
   "source": [
    "ff = list(mask.getFeatures())\n",
    "[f.geometry() for f in ff]"
   ]
  },
  {
   "cell_type": "code",
   "execution_count": 28,
   "metadata": {},
   "outputs": [
    {
     "name": "stdout",
     "output_type": "stream",
     "text": [
      "False\n"
     ]
    }
   ],
   "source": [
    "f = mask.getFeature(1)\n",
    "\n",
    "\n",
    "print(pols.addFeature(f, QgsFeatureSink.FastInsert))\n",
    "\n"
   ]
  },
  {
   "cell_type": "code",
   "execution_count": 31,
   "metadata": {},
   "outputs": [
    {
     "data": {
      "text/plain": [
       "<qgis._core.QgsFields at 0x7f5af19b9940>"
      ]
     },
     "execution_count": 31,
     "metadata": {},
     "output_type": "execute_result"
    }
   ],
   "source": [
    "pols.fields()"
   ]
  },
  {
   "cell_type": "code",
   "execution_count": 7,
   "metadata": {},
   "outputs": [],
   "source": [
    "# [2021-02-21 11:20:37] processing.run(\"native:dissolve\", {'INPUT':'','FIELD':[],'OUTPUT':'TEMPORARY_OUTPUT'})\n",
    "# dis = processing.run(\"native:dissolve\", {\"INPUT\": pols, \"OUTPUT\":\"TEMPORARY_OUTPUT\"})\n"
   ]
  },
  {
   "cell_type": "code",
   "execution_count": 8,
   "metadata": {},
   "outputs": [
    {
     "name": "stderr",
     "output_type": "stream",
     "text": [
      "<ipython-input-8-22e5363287d2>:5: DeprecationWarning: QgsSpatialIndex.insertFeature() is deprecated\n",
      "  index.insertFeature(ft)\n"
     ]
    }
   ],
   "source": [
    "index = QgsSpatialIndex() # Spatial index\n",
    "\n",
    "for ft in pols.getFeatures():\n",
    "    \n",
    "    index.insertFeature(ft)\n"
   ]
  },
  {
   "cell_type": "code",
   "execution_count": 9,
   "metadata": {},
   "outputs": [
    {
     "data": {
      "text/plain": [
       "<QgsVectorLayer: 'Dissolved' (memory)>"
      ]
     },
     "execution_count": 9,
     "metadata": {},
     "output_type": "execute_result"
    }
   ],
   "source": [
    "\n",
    "\n",
    "# pars = {'INPUT':cont2.id(),'OVERLAY':dissolved,'INPUT_FIELDS':[],'OVERLAY_FIELDS':[],'OVERLAY_FIELDS_PREFIX':'','OUTPUT':'TEMPORARY_OUTPUT'}\n",
    "# cont = processing.run(\"native:intersection\", pars)[\"OUTPUT\"]"
   ]
  },
  {
   "cell_type": "code",
   "execution_count": 10,
   "metadata": {},
   "outputs": [],
   "source": [
    "# QgsVectorFileWriter.writeAsVectorFormat(cont,f\"output_pols\",'utf-8',driverName='ESRI Shapefile')    "
   ]
  },
  {
   "cell_type": "code",
   "execution_count": 11,
   "metadata": {},
   "outputs": [],
   "source": [
    "outtable = []\n",
    "\n",
    "for f in cont.getFeatures():\n",
    "    fid = f.id()\n",
    "    \n",
    "    g = f.geometry()\n",
    "    if g.isEmpty() or not f.isValid() or g.length() < 1e-16:\n",
    "        continue\n",
    "        \n",
    "    \n",
    "    for pid, p in enumerate(g.parts()):\n",
    "        start = p[0]\n",
    "        end = p[-1]\n",
    "\n",
    "        outtable.append([fid, pid, [start, end]])\n",
    "            \n",
    "        \n",
    "        \n"
   ]
  },
  {
   "cell_type": "code",
   "execution_count": null,
   "metadata": {},
   "outputs": [],
   "source": []
  },
  {
   "cell_type": "code",
   "execution_count": 12,
   "metadata": {},
   "outputs": [],
   "source": [
    "def find_polygons_containing_point(pt, index, polygons):\n",
    "    ids = index.intersects(pt.boundingBox()) # polygons intersecting the point\n",
    "    pp= polygons.getFeatures(ids)\n",
    "    real = []\n",
    "    for p, i in zip(pp, ids):\n",
    "        if p.geometry().contains(QgsPointXY(pt)):\n",
    "            real.append(p.id())\n",
    "            \n",
    "    return real\n",
    "            \n",
    "\n",
    "    "
   ]
  },
  {
   "cell_type": "code",
   "execution_count": null,
   "metadata": {},
   "outputs": [],
   "source": []
  },
  {
   "cell_type": "code",
   "execution_count": 13,
   "metadata": {},
   "outputs": [],
   "source": [
    "exteriors = []\n",
    "cuttable = []\n",
    "for fid, pid, (start, end) in outtable:\n",
    "    mypols = []\n",
    "    pstart = find_polygons_containing_point(start, index, pols)\n",
    "    pend = find_polygons_containing_point(end, index, pols)\n",
    "    mypols += pend + pstart\n",
    "    \n",
    "    if len(mypols) >1:\n",
    "        cuttable.append([fid, pid, mypols])\n",
    "        \n",
    "    elif len(mypols) < 2:\n",
    "        exteriors.append([fid, pid])"
   ]
  },
  {
   "cell_type": "code",
   "execution_count": null,
   "metadata": {},
   "outputs": [],
   "source": []
  },
  {
   "cell_type": "code",
   "execution_count": 14,
   "metadata": {},
   "outputs": [],
   "source": [
    "def get_sel(layer):\n",
    "    return processing.run(\"native:saveselectedfeatures\", {'INPUT':layer.id(),'OUTPUT':'TEMPORARY_OUTPUT'})[\"OUTPUT\"]"
   ]
  },
  {
   "cell_type": "code",
   "execution_count": null,
   "metadata": {},
   "outputs": [],
   "source": []
  },
  {
   "cell_type": "code",
   "execution_count": 15,
   "metadata": {},
   "outputs": [],
   "source": [
    "# QgsProcessingFeatureSourceDefinition?"
   ]
  },
  {
   "cell_type": "code",
   "execution_count": 16,
   "metadata": {},
   "outputs": [],
   "source": [
    "def clip_with_selection(lines, polygons):\n",
    "    pars = {\"INPUT\":QgsProcessingFeatureSourceDefinition(lines.id(), True),\n",
    "            \"OVERLAY\": QgsProcessingFeatureSourceDefinition(polygons.id(), True),\n",
    "            \"OUTPUT\":\"memory:\"}\n",
    "    \n",
    "    \n",
    "    return processing.run(\"native:difference\", pars)\n",
    "\n",
    "def clip_with_selection2(lines, polygons):\n",
    "    lin = processing.run(\"native:saveselectedfeatures\", {'INPUT':lines,'OUTPUT':'TEMPORARY_OUTPUT'})[\"OUTPUT\"]\n",
    "    pol = processing.run(\"native:saveselectedfeatures\", {'INPUT':polygons,'OUTPUT':'TEMPORARY_OUTPUT'})[\"OUTPUT\"]\n",
    "    \n",
    "    \n",
    "    pars = {\"INPUT\":lin,\n",
    "            \"OVERLAY\": pol,\n",
    "            \"OUTPUT\":'TEMPORARY_OUTPUT'}\n",
    "    \n",
    "    \n",
    "    return processing.run(\"native:difference\", pars)[\"OUTPUT\"]\n",
    "\n",
    "def clip_external(lines, dissolved):\n",
    "    lin = processing.run(\"native:saveselectedfeatures\", {'INPUT':lines,'OUTPUT':'TEMPORARY_OUTPUT'})[\"OUTPUT\"]\n",
    "    return processing.run(\"native:clip\", {\"INPUT\": lin, \"OVERLAY\":dissolved, \"OUTPUT\":\"TEMPORARY_OUTPUT\"})[\"OUTPUT\"]\n",
    "    \n",
    "    "
   ]
  },
  {
   "cell_type": "code",
   "execution_count": null,
   "metadata": {},
   "outputs": [],
   "source": []
  },
  {
   "cell_type": "code",
   "execution_count": 17,
   "metadata": {},
   "outputs": [],
   "source": [
    "for i, (lineid, subid, polygons) in enumerate(cuttable):\n",
    "    pols.removeSelection()\n",
    "    cont.removeSelection()\n",
    "    [pols.select(p) for p in polygons]\n",
    "    cont.select(lineid)\n",
    "    \n",
    "    o = clip_with_selection2(cont, pols)\n",
    "    \n",
    "    if o.featureCount() > 0:\n",
    "        f = o.getFeature(1)\n",
    "        gg = f.geometry()\n",
    "\n",
    "        cont.startEditing()\n",
    "        cont.changeGeometry(lineid,gg)\n",
    "        cont.commitChanges()"
   ]
  },
  {
   "cell_type": "code",
   "execution_count": 18,
   "metadata": {},
   "outputs": [],
   "source": [
    "for i, (lineid, subid) in enumerate(exteriors):\n",
    "    dissolved.removeSelection()\n",
    "    cont.removeSelection()\n",
    "    cont.select(lineid)\n",
    "    \n",
    "    o = clip_external(cont, dissolved)\n",
    "    if o.featureCount() > 0:\n",
    "        f = o.getFeature(1)\n",
    "        gg = f.geometry()\n",
    "\n",
    "        cont.startEditing()\n",
    "        cont.changeGeometry(lineid,gg)\n",
    "        cont.commitChanges()\n",
    "    "
   ]
  },
  {
   "cell_type": "code",
   "execution_count": 19,
   "metadata": {},
   "outputs": [
    {
     "data": {
      "text/plain": [
       "<QgsVectorLayer: 'Selected features' (memory)>"
      ]
     },
     "execution_count": 19,
     "metadata": {},
     "output_type": "execute_result"
    }
   ],
   "source": [
    "cont"
   ]
  },
  {
   "cell_type": "code",
   "execution_count": 20,
   "metadata": {},
   "outputs": [
    {
     "name": "stderr",
     "output_type": "stream",
     "text": [
      "<ipython-input-20-cacb76400b30>:1: DeprecationWarning: QgsVectorFileWriter.writeAsVectorFormat() is deprecated\n",
      "  QgsVectorFileWriter.writeAsVectorFormat(cont,f\"output_pols\",'utf-8',driverName='ESRI Shapefile')\n"
     ]
    },
    {
     "data": {
      "text/plain": [
       "(0, '')"
      ]
     },
     "execution_count": 20,
     "metadata": {},
     "output_type": "execute_result"
    }
   ],
   "source": [
    "QgsVectorFileWriter.writeAsVectorFormat(cont,f\"output_pols\",'utf-8',driverName='ESRI Shapefile')    "
   ]
  },
  {
   "cell_type": "code",
   "execution_count": 49,
   "metadata": {},
   "outputs": [
    {
     "name": "stderr",
     "output_type": "stream",
     "text": [
      "<ipython-input-49-edf8a928671d>:1: DeprecationWarning: QgsVectorFileWriter.writeAsVectorFormat() is deprecated\n",
      "  QgsVectorFileWriter.writeAsVectorFormat(cont,\"output\",'utf-8',driverName='ESRI Shapefile')\n"
     ]
    },
    {
     "data": {
      "text/plain": [
       "(0, '')"
      ]
     },
     "execution_count": 49,
     "metadata": {},
     "output_type": "execute_result"
    }
   ],
   "source": [
    "# QgsVectorFileWriter.writeAsVectorFormat(cont,\"output\",'utf-8',driverName='ESRI Shapefile')"
   ]
  },
  {
   "cell_type": "code",
   "execution_count": 50,
   "metadata": {},
   "outputs": [
    {
     "ename": "NameError",
     "evalue": "name 'a' is not defined",
     "output_type": "error",
     "traceback": [
      "\u001b[0;31m---------------------------------------------------------------------------\u001b[0m",
      "\u001b[0;31mNameError\u001b[0m                                 Traceback (most recent call last)",
      "\u001b[0;32m<ipython-input-50-841a56f7c63e>\u001b[0m in \u001b[0;36m<module>\u001b[0;34m\u001b[0m\n\u001b[1;32m      1\u001b[0m \u001b[0ml\u001b[0m \u001b[0;34m=\u001b[0m \u001b[0mcont\u001b[0m\u001b[0;34m.\u001b[0m\u001b[0mgetFeature\u001b[0m\u001b[0;34m(\u001b[0m\u001b[0;36m36\u001b[0m\u001b[0;34m)\u001b[0m\u001b[0;34m\u001b[0m\u001b[0;34m\u001b[0m\u001b[0m\n\u001b[1;32m      2\u001b[0m \u001b[0mp\u001b[0m \u001b[0;34m=\u001b[0m \u001b[0mpols\u001b[0m\u001b[0;34m.\u001b[0m\u001b[0mgetFeature\u001b[0m\u001b[0;34m(\u001b[0m\u001b[0;36m30\u001b[0m\u001b[0;34m)\u001b[0m\u001b[0;34m\u001b[0m\u001b[0;34m\u001b[0m\u001b[0m\n\u001b[0;32m----> 3\u001b[0;31m \u001b[0ma\u001b[0m\u001b[0;34m\u001b[0m\u001b[0;34m\u001b[0m\u001b[0m\n\u001b[0m",
      "\u001b[0;31mNameError\u001b[0m: name 'a' is not defined"
     ]
    }
   ],
   "source": [
    "l = cont.getFeature(36)\n",
    "p = pols.getFeature(30)\n",
    "a"
   ]
  },
  {
   "cell_type": "code",
   "execution_count": null,
   "metadata": {},
   "outputs": [],
   "source": [
    "pols.removeSelection()"
   ]
  },
  {
   "cell_type": "code",
   "execution_count": null,
   "metadata": {},
   "outputs": [],
   "source": [
    "cont.select(36)\n",
    "pols.select(30)\n"
   ]
  },
  {
   "cell_type": "code",
   "execution_count": null,
   "metadata": {},
   "outputs": [],
   "source": [
    "pols.selectedFeatureIds()"
   ]
  },
  {
   "cell_type": "code",
   "execution_count": null,
   "metadata": {},
   "outputs": [],
   "source": []
  },
  {
   "cell_type": "code",
   "execution_count": 14,
   "metadata": {},
   "outputs": [],
   "source": []
  },
  {
   "cell_type": "code",
   "execution_count": null,
   "metadata": {},
   "outputs": [],
   "source": [
    "print([a.id() for a in QgsApplication.processingRegistry().algorithms() if \"clip\" in a.id()])"
   ]
  },
  {
   "cell_type": "code",
   "execution_count": null,
   "metadata": {},
   "outputs": [],
   "source": [
    "[2021-02-15 11:39:59] processing.run(\"native:clip\", {'INPUT':QgsProcessingFeatureSourceDefinition('contacts_7768adb1_5e8e_4a87_a7b2_aebd7bb4303e', True),\n",
    "                                                     'OVERLAY':QgsProcessingFeatureSourceDefinition('map_62aaeba8_b51e_4242_82bc_ea14f8a87fbe', True),'OUTPUT':'TEMPORARY_OUTPUT'})"
   ]
  }
 ],
 "metadata": {
  "kernelspec": {
   "display_name": "Python 3",
   "language": "python",
   "name": "python3"
  },
  "language_info": {
   "codemirror_mode": {
    "name": "ipython",
    "version": 3
   },
   "file_extension": ".py",
   "mimetype": "text/x-python",
   "name": "python",
   "nbconvert_exporter": "python",
   "pygments_lexer": "ipython3",
   "version": "3.9.1"
  }
 },
 "nbformat": 4,
 "nbformat_minor": 4
}
