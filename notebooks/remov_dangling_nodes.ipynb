{
 "cells": [
  {
   "cell_type": "code",
   "execution_count": 1,
   "metadata": {},
   "outputs": [
    {
     "data": {
      "text/plain": [
       "True"
      ]
     },
     "execution_count": 1,
     "metadata": {},
     "output_type": "execute_result"
    }
   ],
   "source": [
    "import sys\n",
    "import os\n",
    "\n",
    "import qgis\n",
    "from qgis.gui import *\n",
    "from qgis.core import *\n",
    "from qgis.utils import plugins\n",
    "from PyQt5.QtCore import *\n",
    "from qgis.analysis import QgsNativeAlgorithms\n",
    "\n",
    "sys.path.append('/usr/share/qgis/python/plugins/')\n",
    "sys.path.append('/usr/share/qgis/python/')\n",
    "\n",
    "QgsApplication.setPrefixPath('/usr', True)\n",
    "app = QgsApplication([], False)\n",
    "app.initQgis()\n",
    "\n",
    "import processing\n",
    "from processing.core.Processing import Processing\n",
    "Processing.initialize()\n",
    "\n",
    "QgsApplication.processingRegistry().addProvider(QgsNativeAlgorithms())\n",
    "# for alg in QgsApplication.processingRegistry().algorithms():\n",
    "#         print(alg.id(), \"--->\", alg.displayName())\n",
    "\n",
    "# Stop QGIS appllication\n",
    "# app.exitQgis()\n",
    "# app.exit()"
   ]
  },
  {
   "cell_type": "code",
   "execution_count": 2,
   "metadata": {},
   "outputs": [
    {
     "name": "stdout",
     "output_type": "stream",
     "text": [
      "/home/luca/Code/mappy.git/input_data/qgis_project.qgz\n"
     ]
    },
    {
     "name": "stderr",
     "output_type": "stream",
     "text": [
      "/usr/lib/python3.9/site-packages/ipykernel/ipkernel.py:283: DeprecationWarning: `should_run_async` will not call `transform_cell` automatically in the future. Please pass the result to `transformed_cell` argument and any exception that happen during thetransform in `preprocessing_exc_tuple` in IPython 7.17 and above.\n",
      "  and should_run_async(code)\n"
     ]
    }
   ],
   "source": [
    "from qgis.core import QgsProject, QgsApplication\n",
    "# Get the project instance\n",
    "project = QgsProject.instance()\n",
    "# Print the current project file name (might be empty in case no projects have been loaded)\n",
    "# print(project.fileName())\n",
    "\n",
    "# Load another project\n",
    "project.read(f\"/home/luca/Code/mappy.git/input_data/qgis_project.qgz\")\n",
    "print(project.fileName())"
   ]
  },
  {
   "cell_type": "code",
   "execution_count": 3,
   "metadata": {},
   "outputs": [],
   "source": [
    "project.mapLayers()\n",
    "cont = project.mapLayersByName(\"contacts\")[0]\n",
    "pols = project.mapLayersByName(\"map\")[0]"
   ]
  },
  {
   "cell_type": "code",
   "execution_count": 4,
   "metadata": {},
   "outputs": [
    {
     "name": "stderr",
     "output_type": "stream",
     "text": [
      "<ipython-input-4-22e5363287d2>:5: DeprecationWarning: QgsSpatialIndex.insertFeature() is deprecated\n",
      "  index.insertFeature(ft)\n"
     ]
    }
   ],
   "source": [
    "index = QgsSpatialIndex() # Spatial index\n",
    "\n",
    "for ft in pols.getFeatures():\n",
    "    \n",
    "    index.insertFeature(ft)\n"
   ]
  },
  {
   "cell_type": "code",
   "execution_count": null,
   "metadata": {},
   "outputs": [],
   "source": []
  },
  {
   "cell_type": "code",
   "execution_count": 5,
   "metadata": {},
   "outputs": [],
   "source": [
    "outtable = []\n",
    "\n",
    "for f in cont.getFeatures():\n",
    "    fid = f.id()\n",
    "    \n",
    "    g = f.geometry()\n",
    "    if g.isEmpty() or not f.isValid() or g.length() < 1e-16:\n",
    "        continue\n",
    "        \n",
    "    \n",
    "    if g.isMultipart():\n",
    "        for pid, p in enumerate(g.parts()):\n",
    "            start = p[0]\n",
    "            end = p[-1]\n",
    "            \n",
    "            outtable.append([fid, pid, [start, end]])\n",
    "        \n"
   ]
  },
  {
   "cell_type": "code",
   "execution_count": null,
   "metadata": {},
   "outputs": [],
   "source": []
  },
  {
   "cell_type": "code",
   "execution_count": 6,
   "metadata": {},
   "outputs": [],
   "source": [
    "def find_polygons_containing_point(pt, index, polygons):\n",
    "    ids = index.intersects(pt.boundingBox()) # polygons intersecting the point\n",
    "#     request = QgsFeatureRequest()\n",
    "#     request.setFilterFids(ids)\n",
    "\n",
    "#     pp = polygons.getFeatures(request)\n",
    "    pp= polygons.getFeatures(ids)\n",
    "    real = []\n",
    "    for p, i in zip(pp, ids):\n",
    "        if p.geometry().contains(QgsPointXY(pt)):\n",
    "            real.append(p.id())\n",
    "            \n",
    "    return real\n",
    "            \n",
    "\n",
    "    "
   ]
  },
  {
   "cell_type": "code",
   "execution_count": 7,
   "metadata": {},
   "outputs": [],
   "source": [
    "cuttable = []\n",
    "for fid, pid, (start, end) in outtable:\n",
    "    mypols = []\n",
    "    pstart = find_polygons_containing_point(start, index, pols)\n",
    "    pend = find_polygons_containing_point(end, index, pols)\n",
    "    mypols += pend + pstart\n",
    "    \n",
    "    if len(mypols):\n",
    "        cuttable.append([fid, pid, mypols])"
   ]
  },
  {
   "cell_type": "code",
   "execution_count": 8,
   "metadata": {},
   "outputs": [
    {
     "data": {
      "text/plain": [
       "[[32, 0, [22, 29]], [33, 0, [17, 29]], [34, 0, [19, 29]], [35, 0, [11]]]"
      ]
     },
     "execution_count": 8,
     "metadata": {},
     "output_type": "execute_result"
    }
   ],
   "source": [
    "cuttable"
   ]
  },
  {
   "cell_type": "code",
   "execution_count": 9,
   "metadata": {},
   "outputs": [],
   "source": [
    "def get_sel(layer):\n",
    "    return processing.run(\"native:saveselectedfeatures\", {'INPUT':layer.name(),'OUTPUT':'TEMPORARY_OUTPUT'})[\"OUTPUT\"]"
   ]
  },
  {
   "cell_type": "code",
   "execution_count": 10,
   "metadata": {},
   "outputs": [
    {
     "data": {
      "text/plain": [
       "[[32, 0, [22, 29]], [33, 0, [17, 29]], [34, 0, [19, 29]], [35, 0, [11]]]"
      ]
     },
     "execution_count": 10,
     "metadata": {},
     "output_type": "execute_result"
    }
   ],
   "source": [
    "cuttable"
   ]
  },
  {
   "cell_type": "code",
   "execution_count": 11,
   "metadata": {},
   "outputs": [],
   "source": [
    "def clip_with_selection(lines, polygons):\n",
    "    pars = {\"INPUT\":QgsProcessingFeatureSourceDefinition(lines.name(), True),\n",
    "            \"OVERLAY\": QgsProcessingFeatureSourceDefinition(polygons.name(), True),\n",
    "            \"OUTPUT\":\"memory:\"}\n",
    "    \n",
    "    \n",
    "    return processing.run(\"native:difference\", pars)\n",
    "    \n",
    "    "
   ]
  },
  {
   "cell_type": "code",
   "execution_count": 12,
   "metadata": {},
   "outputs": [],
   "source": [
    "# QgsVectorFileWriter.writeAsVectorFormatV2?"
   ]
  },
  {
   "cell_type": "code",
   "execution_count": 26,
   "metadata": {},
   "outputs": [
    {
     "name": "stdout",
     "output_type": "stream",
     "text": [
      "(0, '')\n",
      "(0, '')\n",
      "(0, '')\n",
      "(0, '')\n",
      "(0, '')\n",
      "(0, '')\n",
      "(0, '')\n",
      "(0, '')\n",
      "(0, '')\n",
      "(0, '')\n",
      "(0, '')\n",
      "(0, '')\n"
     ]
    },
    {
     "name": "stderr",
     "output_type": "stream",
     "text": [
      "<ipython-input-26-d0afb80e317f>:39: DeprecationWarning: QgsVectorFileWriter.writeAsVectorFormat() is deprecated\n",
      "  QgsVectorFileWriter.writeAsVectorFormat(cont,f\"output_pols\",'utf-8',driverName='ESRI Shapefile')\n"
     ]
    },
    {
     "data": {
      "text/plain": [
       "(0, '')"
      ]
     },
     "execution_count": 26,
     "metadata": {},
     "output_type": "execute_result"
    }
   ],
   "source": [
    "for i, (lineid, subid, polygons) in enumerate(cuttable):\n",
    "    pols.removeSelection()\n",
    "    cont.removeSelection()\n",
    "    [pols.select(p) for p in polygons]\n",
    "    cont.select(lineid)\n",
    "    \n",
    "    this_sel_pol = get_sel(pols)\n",
    "    this_sel_lin = get_sel(cont)\n",
    "    \n",
    "    options = QgsVectorFileWriter.SaveVectorOptions()\n",
    "    options.actionOnExistingFile = QgsVectorFileWriter.CreateOrOverwriteLayer \n",
    "    options.layerName = f\"pols_{str(i)}\"\n",
    "    options.driverName =\"GPKG\"\n",
    "    \n",
    "    print(QgsVectorFileWriter.writeAsVectorFormatV2(layer=this_sel_pol,fileName=\"out\",transformContext=QgsCoordinateTransformContext(), options=options))\n",
    "    options.layerName = f\"line_{str(i)}\"\n",
    "    print(QgsVectorFileWriter.writeAsVectorFormatV2(layer=this_sel_lin,fileName=\"out\",transformContext=QgsCoordinateTransformContext(), options=options))\n",
    "\n",
    "\n",
    "    \n",
    "    o = clip_with_selection(cont, pols)[\"OUTPUT\"]\n",
    "#     print(len(list(o.getFeatures())))\n",
    "    \n",
    "    \n",
    "    options.layerName = f\"clean_line_{str(i)}\"\n",
    "    \n",
    "    print(QgsVectorFileWriter.writeAsVectorFormatV2(layer=o,fileName=\"out\",transformContext=QgsCoordinateTransformContext(), options=options))\n",
    "    \n",
    "    if o.featureCount() > 0:\n",
    "        f = o.getFeature(1)\n",
    "        gg = f.geometry()\n",
    "\n",
    "        cont.startEditing()\n",
    "        cont.changeGeometry(lineid,gg)\n",
    "        cont.commitChanges()\n",
    "#     cont.stopEditing()\n",
    "#     \n",
    "\n",
    "QgsVectorFileWriter.writeAsVectorFormat(cont,f\"output_pols\",'utf-8',driverName='ESRI Shapefile')    "
   ]
  },
  {
   "cell_type": "code",
   "execution_count": 24,
   "metadata": {},
   "outputs": [
    {
     "data": {
      "text/plain": [
       "\u001b[0;31mDocstring:\u001b[0m\n",
       "commitChanges(self, stopEditing: bool = True) -> bool\n",
       "Attempts to commit to the underlying data provider any buffered changes made since the\n",
       "last to call to :py:func:`~QgsVectorLayer.startEditing`.\n",
       "\n",
       "Returns the result of the attempt. If a commit fails (i.e. ``False`` is returned), the\n",
       "in-memory changes are left untouched and are not discarded. This allows editing to\n",
       "continue if the commit failed on e.g. a disallowed value in a Postgres\n",
       "database - the user can re-edit and try again.\n",
       "\n",
       "The commits occur in distinct stages,\n",
       "(add attributes, add features, change attribute values, change\n",
       "geometries, delete features, delete attributes)\n",
       "so if a stage fails, it can be difficult to roll back cleanly.\n",
       "Therefore any error message returned by :py:func:`~QgsVectorLayer.commitErrors` also includes which stage failed so\n",
       "that the user has some chance of repairing the damage cleanly.\n",
       "\n",
       "By setting ``stopEditing`` to ``False``, the layer will stay in editing mode.\n",
       "Otherwise the layer editing mode will be disabled if the commit is successful.\n",
       "\n",
       ".. seealso:: :py:func:`startEditing`\n",
       "\n",
       ".. seealso:: :py:func:`commitErrors`\n",
       "\n",
       ".. seealso:: :py:func:`rollBack`\n",
       "\u001b[0;31mType:\u001b[0m      builtin_function_or_method\n"
      ]
     },
     "metadata": {},
     "output_type": "display_data"
    }
   ],
   "source": [
    "cont.commitChanges?"
   ]
  },
  {
   "cell_type": "code",
   "execution_count": 49,
   "metadata": {},
   "outputs": [
    {
     "name": "stderr",
     "output_type": "stream",
     "text": [
      "<ipython-input-49-edf8a928671d>:1: DeprecationWarning: QgsVectorFileWriter.writeAsVectorFormat() is deprecated\n",
      "  QgsVectorFileWriter.writeAsVectorFormat(cont,\"output\",'utf-8',driverName='ESRI Shapefile')\n"
     ]
    },
    {
     "data": {
      "text/plain": [
       "(0, '')"
      ]
     },
     "execution_count": 49,
     "metadata": {},
     "output_type": "execute_result"
    }
   ],
   "source": [
    "QgsVectorFileWriter.writeAsVectorFormat(cont,\"output\",'utf-8',driverName='ESRI Shapefile')"
   ]
  },
  {
   "cell_type": "code",
   "execution_count": 50,
   "metadata": {},
   "outputs": [
    {
     "ename": "NameError",
     "evalue": "name 'a' is not defined",
     "output_type": "error",
     "traceback": [
      "\u001b[0;31m---------------------------------------------------------------------------\u001b[0m",
      "\u001b[0;31mNameError\u001b[0m                                 Traceback (most recent call last)",
      "\u001b[0;32m<ipython-input-50-841a56f7c63e>\u001b[0m in \u001b[0;36m<module>\u001b[0;34m\u001b[0m\n\u001b[1;32m      1\u001b[0m \u001b[0ml\u001b[0m \u001b[0;34m=\u001b[0m \u001b[0mcont\u001b[0m\u001b[0;34m.\u001b[0m\u001b[0mgetFeature\u001b[0m\u001b[0;34m(\u001b[0m\u001b[0;36m36\u001b[0m\u001b[0;34m)\u001b[0m\u001b[0;34m\u001b[0m\u001b[0;34m\u001b[0m\u001b[0m\n\u001b[1;32m      2\u001b[0m \u001b[0mp\u001b[0m \u001b[0;34m=\u001b[0m \u001b[0mpols\u001b[0m\u001b[0;34m.\u001b[0m\u001b[0mgetFeature\u001b[0m\u001b[0;34m(\u001b[0m\u001b[0;36m30\u001b[0m\u001b[0;34m)\u001b[0m\u001b[0;34m\u001b[0m\u001b[0;34m\u001b[0m\u001b[0m\n\u001b[0;32m----> 3\u001b[0;31m \u001b[0ma\u001b[0m\u001b[0;34m\u001b[0m\u001b[0;34m\u001b[0m\u001b[0m\n\u001b[0m",
      "\u001b[0;31mNameError\u001b[0m: name 'a' is not defined"
     ]
    }
   ],
   "source": [
    "l = cont.getFeature(36)\n",
    "p = pols.getFeature(30)\n",
    "a"
   ]
  },
  {
   "cell_type": "code",
   "execution_count": null,
   "metadata": {},
   "outputs": [],
   "source": [
    "pols.removeSelection()"
   ]
  },
  {
   "cell_type": "code",
   "execution_count": null,
   "metadata": {},
   "outputs": [],
   "source": [
    "cont.select(36)\n",
    "pols.select(30)\n"
   ]
  },
  {
   "cell_type": "code",
   "execution_count": null,
   "metadata": {},
   "outputs": [],
   "source": [
    "pols.selectedFeatureIds()"
   ]
  },
  {
   "cell_type": "code",
   "execution_count": null,
   "metadata": {},
   "outputs": [],
   "source": []
  },
  {
   "cell_type": "code",
   "execution_count": 14,
   "metadata": {},
   "outputs": [],
   "source": []
  },
  {
   "cell_type": "code",
   "execution_count": null,
   "metadata": {},
   "outputs": [],
   "source": [
    "print([a.id() for a in QgsApplication.processingRegistry().algorithms() if \"clip\" in a.id()])"
   ]
  },
  {
   "cell_type": "code",
   "execution_count": null,
   "metadata": {},
   "outputs": [],
   "source": [
    "[2021-02-15 11:39:59] processing.run(\"native:clip\", {'INPUT':QgsProcessingFeatureSourceDefinition('contacts_7768adb1_5e8e_4a87_a7b2_aebd7bb4303e', True),\n",
    "                                                     'OVERLAY':QgsProcessingFeatureSourceDefinition('map_62aaeba8_b51e_4242_82bc_ea14f8a87fbe', True),'OUTPUT':'TEMPORARY_OUTPUT'})"
   ]
  }
 ],
 "metadata": {
  "kernelspec": {
   "display_name": "Python 3",
   "language": "python",
   "name": "python3"
  },
  "language_info": {
   "codemirror_mode": {
    "name": "ipython",
    "version": 3
   },
   "file_extension": ".py",
   "mimetype": "text/x-python",
   "name": "python",
   "nbconvert_exporter": "python",
   "pygments_lexer": "ipython3",
   "version": "3.9.1"
  }
 },
 "nbformat": 4,
 "nbformat_minor": 4
}
