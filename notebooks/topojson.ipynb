{
 "cells": [
  {
   "cell_type": "code",
   "execution_count": 1,
   "metadata": {},
   "outputs": [
    {
     "name": "stdout",
     "output_type": "stream",
     "text": [
      "Populating the interactive namespace from numpy and matplotlib\n",
      " import mappy\n",
      " mappy logging imported\n",
      " trying geopandas imported\n",
      " geopandas imported\n",
      " matplotlib imported\n",
      " mappy plotting imported\n",
      " mappy geom_ops imported\n",
      " mappy checks imported\n",
      " mappy mappy_construct imported\n"
     ]
    }
   ],
   "source": [
    "%pylab inline\n",
    "\n",
    "import geopandas, topojson, sys, shapely\n",
    "\n",
    "sys.path.append(\"../\")\n",
    "\n",
    "sys.path.insert(0,\"/home/luca/Code/topojson.git/\")\n",
    "import mappy as mpy\n",
    "\n",
    "infile = \"/home/luca/Code/mappy.git/input_data/test_map2.gpkg\"\n",
    "layer_name= \"test_map2\"\n",
    "# column_name=\"Unit_Code\"\n",
    "\n",
    "\n",
    "infile = \"/data/SciDataHub/projects/map_validation/PM-MOO-MS-SPAApollo_01.gpkg\"\n",
    "layer_name= \"subregion_fixed\"\n",
    "column_name=\"Unit_Code\""
   ]
  },
  {
   "cell_type": "code",
   "execution_count": 2,
   "metadata": {},
   "outputs": [],
   "source": [
    "from mappy.geom_ops import mappy_deconstruct"
   ]
  },
  {
   "cell_type": "code",
   "execution_count": 3,
   "metadata": {},
   "outputs": [
    {
     "name": "stderr",
     "output_type": "stream",
     "text": [
      "/usr/lib/python3.8/site-packages/numpy/core/shape_base.py:122: ShapelyDeprecationWarning: The array interface is deprecated and will no longer work in Shapely 2.0. Convert the '.coords' to a numpy array instead.\n",
      "  ary = asanyarray(ary)\n",
      "/home/luca/.local/lib/python3.8/site-packages/topojson/ops.py:544: ShapelyDeprecationWarning: Setting the 'coords' to mutate a Geometry in place is deprecated, and will not be possible any more in Shapely 2.0\n",
      "  ls.coords = ls_xy[bool_slice]\n",
      "../mappy/geom_ops.py:358: ShapelyDeprecationWarning: The proxy geometries (through the 'asShape()', 'asLineString()' or 'LineStringAdapter()' constructors) are deprecated and will be removed in Shapely 2.0. Use the 'shape()' function or the standard 'LineString()' constructor instead.\n",
      "  glines = [asLineString(e) for e in out]\n",
      "../mappy/geom_ops.py:216: UserWarning: CRS mismatch between the CRS of left geometries and the CRS of right geometries.\n",
      "Use `to_crs()` to reproject one of the input geometries to match the CRS of the other.\n",
      "\n",
      "Left CRS: None\n",
      "Right CRS: PROJCS[\"unknown\",GEOGCS[\"unknown\",DATUM[\"unknown\", ...\n",
      "\n",
      "  return geopandas.sjoin(points, polygons)\n"
     ]
    },
    {
     "name": "stdout",
     "output_type": "stream",
     "text": [
      "                           geometry  index_right0  index_right1  \\\n",
      "0     POINT (182700.288 -60837.111)             0             0   \n",
      "1    POINT (-100277.854 316873.186)             1             0   \n",
      "2      POINT (40012.868 265650.168)             2             0   \n",
      "3    POINT (-106080.842 125860.261)             3             0   \n",
      "4     POINT (269814.681 -58426.820)             4             0   \n",
      "..                              ...           ...           ...   \n",
      "254   POINT (-84856.994 331764.844)           248             0   \n",
      "255    POINT (80592.236 300855.934)           249             0   \n",
      "256    POINT (267092.075 95749.312)           250             0   \n",
      "257   POINT (226871.229 335657.634)           251             0   \n",
      "258   POINT (161393.651 322422.448)           252             0   \n",
      "\n",
      "                      Unit_Code Short stra                        Unit_Name  \\\n",
      "0    Apl_crater_collapsed_floor       None  Collapsed crater floor features   \n",
      "1    Apl_crater_collapsed_floor       None  Collapsed crater floor features   \n",
      "2    Apl_crater_collapsed_floor       None  Collapsed crater floor features   \n",
      "3    Apl_crater_collapsed_floor       None  Collapsed crater floor features   \n",
      "4    Apl_crater_collapsed_floor       None  Collapsed crater floor features   \n",
      "..                          ...        ...                              ...   \n",
      "254       Apl_Strat_16_pN_SPArm   pN_SPArm    pre-Nectarian SPA rim massifs   \n",
      "255       Apl_Strat_16_pN_SPArm   pN_SPArm    pre-Nectarian SPA rim massifs   \n",
      "256       Apl_Strat_16_pN_SPArm   pN_SPArm    pre-Nectarian SPA rim massifs   \n",
      "257       Apl_Strat_16_pN_SPArm   pN_SPArm    pre-Nectarian SPA rim massifs   \n",
      "258       Apl_Strat_16_pN_SPArm   pN_SPArm    pre-Nectarian SPA rim massifs   \n",
      "\n",
      "                 RGB Topology Style_note                       label  index  \\\n",
      "0       (38, 115, 0)  Polygon       None  Apl_crater_collapsed_floor      6   \n",
      "1       (38, 115, 0)  Polygon       None  Apl_crater_collapsed_floor     46   \n",
      "2       (38, 115, 0)  Polygon       None  Apl_crater_collapsed_floor     47   \n",
      "3       (38, 115, 0)  Polygon       None  Apl_crater_collapsed_floor     50   \n",
      "4       (38, 115, 0)  Polygon       None  Apl_crater_collapsed_floor     53   \n",
      "..               ...      ...        ...                         ...    ...   \n",
      "254  (123, 118, 111)  Polygon       None       Apl_Strat_16_pN_SPArm      1   \n",
      "255  (123, 118, 111)  Polygon       None       Apl_Strat_16_pN_SPArm      2   \n",
      "256  (123, 118, 111)  Polygon       None       Apl_Strat_16_pN_SPArm      3   \n",
      "257  (123, 118, 111)  Polygon       None       Apl_Strat_16_pN_SPArm      9   \n",
      "258  (123, 118, 111)  Polygon       None       Apl_Strat_16_pN_SPArm     10   \n",
      "\n",
      "     Id      Lon      Lat       Area  \n",
      "0     0      NaN      NaN        NaN  \n",
      "1     0      NaN      NaN        NaN  \n",
      "2     0      NaN      NaN        NaN  \n",
      "3     0      NaN      NaN        NaN  \n",
      "4     0      NaN      NaN        NaN  \n",
      "..   ..      ...      ...        ...  \n",
      "254   0 -153.871 -23.5881    889.754  \n",
      "255   0 -146.808 -25.2012   6910.100  \n",
      "256   0 -138.558 -31.7827   1775.020  \n",
      "257   0 -145.495 -20.1769   4888.110  \n",
      "258   0 -146.193 -22.3020  10871.500  \n",
      "\n",
      "[260 rows x 15 columns]\n",
      "<class 'str'>\n",
      "<class 'str'>\n",
      "geometry        geometry\n",
      "index_right0       int64\n",
      "index_right1       int64\n",
      "Unit_Code         object\n",
      "Short stra        object\n",
      "Unit_Name         object\n",
      "RGB               object\n",
      "Topology          object\n",
      "Style_note        object\n",
      "label             object\n",
      "index              int64\n",
      "Id                 int64\n",
      "Lon              float64\n",
      "Lat              float64\n",
      "Area             float64\n",
      "dtype: object\n"
     ]
    },
    {
     "data": {
      "text/plain": [
       "{'layers': [                           geometry  index_right0  index_right1  \\\n",
       "  0     POINT (182700.288 -60837.111)             0             0   \n",
       "  1    POINT (-100277.854 316873.186)             1             0   \n",
       "  2      POINT (40012.868 265650.168)             2             0   \n",
       "  3    POINT (-106080.842 125860.261)             3             0   \n",
       "  4     POINT (269814.681 -58426.820)             4             0   \n",
       "  ..                              ...           ...           ...   \n",
       "  254   POINT (-84856.994 331764.844)           248             0   \n",
       "  255    POINT (80592.236 300855.934)           249             0   \n",
       "  256    POINT (267092.075 95749.312)           250             0   \n",
       "  257   POINT (226871.229 335657.634)           251             0   \n",
       "  258   POINT (161393.651 322422.448)           252             0   \n",
       "  \n",
       "                        Unit_Code Short stra                        Unit_Name  \\\n",
       "  0    Apl_crater_collapsed_floor       None  Collapsed crater floor features   \n",
       "  1    Apl_crater_collapsed_floor       None  Collapsed crater floor features   \n",
       "  2    Apl_crater_collapsed_floor       None  Collapsed crater floor features   \n",
       "  3    Apl_crater_collapsed_floor       None  Collapsed crater floor features   \n",
       "  4    Apl_crater_collapsed_floor       None  Collapsed crater floor features   \n",
       "  ..                          ...        ...                              ...   \n",
       "  254       Apl_Strat_16_pN_SPArm   pN_SPArm    pre-Nectarian SPA rim massifs   \n",
       "  255       Apl_Strat_16_pN_SPArm   pN_SPArm    pre-Nectarian SPA rim massifs   \n",
       "  256       Apl_Strat_16_pN_SPArm   pN_SPArm    pre-Nectarian SPA rim massifs   \n",
       "  257       Apl_Strat_16_pN_SPArm   pN_SPArm    pre-Nectarian SPA rim massifs   \n",
       "  258       Apl_Strat_16_pN_SPArm   pN_SPArm    pre-Nectarian SPA rim massifs   \n",
       "  \n",
       "                   RGB Topology Style_note                       label  index  \\\n",
       "  0       (38, 115, 0)  Polygon       None  Apl_crater_collapsed_floor      6   \n",
       "  1       (38, 115, 0)  Polygon       None  Apl_crater_collapsed_floor     46   \n",
       "  2       (38, 115, 0)  Polygon       None  Apl_crater_collapsed_floor     47   \n",
       "  3       (38, 115, 0)  Polygon       None  Apl_crater_collapsed_floor     50   \n",
       "  4       (38, 115, 0)  Polygon       None  Apl_crater_collapsed_floor     53   \n",
       "  ..               ...      ...        ...                         ...    ...   \n",
       "  254  (123, 118, 111)  Polygon       None       Apl_Strat_16_pN_SPArm      1   \n",
       "  255  (123, 118, 111)  Polygon       None       Apl_Strat_16_pN_SPArm      2   \n",
       "  256  (123, 118, 111)  Polygon       None       Apl_Strat_16_pN_SPArm      3   \n",
       "  257  (123, 118, 111)  Polygon       None       Apl_Strat_16_pN_SPArm      9   \n",
       "  258  (123, 118, 111)  Polygon       None       Apl_Strat_16_pN_SPArm     10   \n",
       "  \n",
       "       Id      Lon      Lat       Area  \n",
       "  0     0      NaN      NaN        NaN  \n",
       "  1     0      NaN      NaN        NaN  \n",
       "  2     0      NaN      NaN        NaN  \n",
       "  3     0      NaN      NaN        NaN  \n",
       "  4     0      NaN      NaN        NaN  \n",
       "  ..   ..      ...      ...        ...  \n",
       "  254   0 -153.871 -23.5881    889.754  \n",
       "  255   0 -146.808 -25.2012   6910.100  \n",
       "  256   0 -138.558 -31.7827   1775.020  \n",
       "  257   0 -145.495 -20.1769   4888.110  \n",
       "  258   0 -146.193 -22.3020  10871.500  \n",
       "  \n",
       "  [260 rows x 15 columns],\n",
       "                                                 geometry\n",
       "  0     LINESTRING (271634.914 -51704.271, 271634.914 ...\n",
       "  1     LINESTRING (-56669.821 11780.832, -58540.914 9...\n",
       "  2     LINESTRING (-25125.645 40580.536, -22855.019 4...\n",
       "  3     LINESTRING (-178796.244 -161666.640, -178796.2...\n",
       "  4     LINESTRING (-143004.498 -143008.711, -143603.1...\n",
       "  ...                                                 ...\n",
       "  1201  LINESTRING (148027.922 304632.758, 148676.994 ...\n",
       "  1202  LINESTRING (148676.994 305298.988, 150056.666 ...\n",
       "  1203  LINESTRING (130297.133 321855.846, 129684.095 ...\n",
       "  1204  LINESTRING (129684.095 320831.031, 129481.401 ...\n",
       "  1205  LINESTRING (129481.401 320063.418, 128800.799 ...\n",
       "  \n",
       "  [1206 rows x 1 columns]]}"
      ]
     },
     "execution_count": 3,
     "metadata": {},
     "output_type": "execute_result"
    }
   ],
   "source": [
    "polygons = geopandas.read_file(infile, layer=layer_name)\n",
    "\n",
    "mappy_deconstruct(polygons, \"Units_name\", \"qua.gpkg\", \"lines\", \"points\")"
   ]
  },
  {
   "cell_type": "code",
   "execution_count": 80,
   "metadata": {},
   "outputs": [],
   "source": [
    "def filter_polygons(data):\n",
    "    if isinstance(data, shapely.geometry.Polygon):\n",
    "        return data\n",
    "    elif isinstance(data, (shapely.geometry.LineString,shapely.geometry.MultiLineString, shapely.geometry.Point )):\n",
    "        return None\n",
    "    else:\n",
    "        pols = [d for d in data if isinstance(d,shapely.geometry.Polygon)]\n",
    "        if len(pols) == 0:\n",
    "            return None\n",
    "        if len(pols)==1:\n",
    "            return pols[0]\n",
    "        else:\n",
    "            return shapely.ops.cascaded_union(pols)"
   ]
  },
  {
   "cell_type": "code",
   "execution_count": 2,
   "metadata": {},
   "outputs": [],
   "source": []
  },
  {
   "cell_type": "code",
   "execution_count": 82,
   "metadata": {},
   "outputs": [],
   "source": [
    "polygons.reset_index(inplace=True)"
   ]
  },
  {
   "cell_type": "code",
   "execution_count": 83,
   "metadata": {},
   "outputs": [],
   "source": [
    "polygons = mpy.explode_multipolygons(polygons)\n",
    "polygons.geometry = polygons.buffer(0)\n",
    "\n",
    "polygons = mpy.remove_null_geometries(polygons) \n",
    "polygons =  mpy.remove_truly_duplicated_geometries(polygons)"
   ]
  },
  {
   "cell_type": "code",
   "execution_count": 84,
   "metadata": {},
   "outputs": [],
   "source": [
    "pols = list(polygons.geometry)\n"
   ]
  },
  {
   "cell_type": "code",
   "execution_count": 3,
   "metadata": {},
   "outputs": [],
   "source": []
  },
  {
   "cell_type": "code",
   "execution_count": 4,
   "metadata": {},
   "outputs": [
    {
     "name": "stderr",
     "output_type": "stream",
     "text": [
      "/usr/lib/python3.8/site-packages/numpy/core/shape_base.py:122: ShapelyDeprecationWarning: The array interface is deprecated and will no longer work in Shapely 2.0. Convert the '.coords' to a numpy array instead.\n",
      "  ary = asanyarray(ary)\n",
      "/home/luca/.local/lib/python3.8/site-packages/topojson/ops.py:544: ShapelyDeprecationWarning: Setting the 'coords' to mutate a Geometry in place is deprecated, and will not be possible any more in Shapely 2.0\n",
      "  ls.coords = ls_xy[bool_slice]\n",
      "<ipython-input-3-19485ed72d1c>:15: ShapelyDeprecationWarning: The proxy geometries (through the 'asShape()', 'asLineString()' or 'LineStringAdapter()' constructors) are deprecated and will be removed in Shapely 2.0. Use the 'shape()' function or the standard 'LineString()' constructor instead.\n",
      "  glines = [asLineString(e) for e in out]\n"
     ]
    },
    {
     "data": {
      "text/html": [
       "<div>\n",
       "<style scoped>\n",
       "    .dataframe tbody tr th:only-of-type {\n",
       "        vertical-align: middle;\n",
       "    }\n",
       "\n",
       "    .dataframe tbody tr th {\n",
       "        vertical-align: top;\n",
       "    }\n",
       "\n",
       "    .dataframe thead th {\n",
       "        text-align: right;\n",
       "    }\n",
       "</style>\n",
       "<table border=\"1\" class=\"dataframe\">\n",
       "  <thead>\n",
       "    <tr style=\"text-align: right;\">\n",
       "      <th></th>\n",
       "      <th>geometry</th>\n",
       "    </tr>\n",
       "  </thead>\n",
       "  <tbody>\n",
       "    <tr>\n",
       "      <th>0</th>\n",
       "      <td>LINESTRING (271634.914 -51704.271, 271634.914 ...</td>\n",
       "    </tr>\n",
       "    <tr>\n",
       "      <th>1</th>\n",
       "      <td>LINESTRING (-56669.821 11780.832, -58540.914 9...</td>\n",
       "    </tr>\n",
       "    <tr>\n",
       "      <th>2</th>\n",
       "      <td>LINESTRING (-25125.645 40580.536, -22855.019 4...</td>\n",
       "    </tr>\n",
       "    <tr>\n",
       "      <th>3</th>\n",
       "      <td>LINESTRING (-178796.244 -161666.640, -178796.2...</td>\n",
       "    </tr>\n",
       "    <tr>\n",
       "      <th>4</th>\n",
       "      <td>LINESTRING (-143004.498 -143008.711, -143603.1...</td>\n",
       "    </tr>\n",
       "    <tr>\n",
       "      <th>...</th>\n",
       "      <td>...</td>\n",
       "    </tr>\n",
       "    <tr>\n",
       "      <th>1201</th>\n",
       "      <td>LINESTRING (148027.922 304632.758, 148676.994 ...</td>\n",
       "    </tr>\n",
       "    <tr>\n",
       "      <th>1202</th>\n",
       "      <td>LINESTRING (148676.994 305298.988, 150056.666 ...</td>\n",
       "    </tr>\n",
       "    <tr>\n",
       "      <th>1203</th>\n",
       "      <td>LINESTRING (130297.133 321855.846, 129684.095 ...</td>\n",
       "    </tr>\n",
       "    <tr>\n",
       "      <th>1204</th>\n",
       "      <td>LINESTRING (129684.095 320831.031, 129481.401 ...</td>\n",
       "    </tr>\n",
       "    <tr>\n",
       "      <th>1205</th>\n",
       "      <td>LINESTRING (129481.401 320063.418, 128800.799 ...</td>\n",
       "    </tr>\n",
       "  </tbody>\n",
       "</table>\n",
       "<p>1206 rows × 1 columns</p>\n",
       "</div>"
      ],
      "text/plain": [
       "                                               geometry\n",
       "0     LINESTRING (271634.914 -51704.271, 271634.914 ...\n",
       "1     LINESTRING (-56669.821 11780.832, -58540.914 9...\n",
       "2     LINESTRING (-25125.645 40580.536, -22855.019 4...\n",
       "3     LINESTRING (-178796.244 -161666.640, -178796.2...\n",
       "4     LINESTRING (-143004.498 -143008.711, -143603.1...\n",
       "...                                                 ...\n",
       "1201  LINESTRING (148027.922 304632.758, 148676.994 ...\n",
       "1202  LINESTRING (148676.994 305298.988, 150056.666 ...\n",
       "1203  LINESTRING (130297.133 321855.846, 129684.095 ...\n",
       "1204  LINESTRING (129684.095 320831.031, 129481.401 ...\n",
       "1205  LINESTRING (129481.401 320063.418, 128800.799 ...\n",
       "\n",
       "[1206 rows x 1 columns]"
      ]
     },
     "execution_count": 4,
     "metadata": {},
     "output_type": "execute_result"
    }
   ],
   "source": [
    "polygons_to_lines(polygons)"
   ]
  },
  {
   "cell_type": "code",
   "execution_count": 101,
   "metadata": {},
   "outputs": [],
   "source": [
    "extlines = []\n",
    "for p in pols:\n",
    "    extlines.append(p.exterior)\n",
    "    \n",
    "    \n"
   ]
  },
  {
   "cell_type": "code",
   "execution_count": 89,
   "metadata": {},
   "outputs": [
    {
     "name": "stdout",
     "output_type": "stream",
     "text": [
      "POLYGON ((-54281.59139104564 -142781.4395102615, -54281.59139104571 -142781.4395102615, -55503.16124773487 -142770.6657723852, -54281.59139104564 -142781.4395102615))\n",
      "1\n"
     ]
    }
   ],
   "source": [
    "import itertools\n",
    "overlaps = []\n",
    "intersections = []\n",
    "counter = 0\n",
    "for i, j in itertools.combinations(np.arange(len(pols)), 2):\n",
    "    a,b = pols[i], pols[j]\n",
    "    if a.overlaps(b):\n",
    "        overlaps.append([a,b])\n",
    "        ii = a.intersection(b)\n",
    "        o = filter_polygons(ii)\n",
    "        if o is not None:\n",
    "            print (o)\n",
    "            intersections.append(o)\n",
    "            counter+=1\n",
    "            newa = a.difference(b)\n",
    "            pols[i] =  newa\n",
    "print(counter)"
   ]
  },
  {
   "cell_type": "code",
   "execution_count": 77,
   "metadata": {},
   "outputs": [],
   "source": [
    "p1, p2 = overlaps[0]\n",
    "# list(p1.intersection(p2))"
   ]
  },
  {
   "cell_type": "code",
   "execution_count": 78,
   "metadata": {},
   "outputs": [],
   "source": [
    "gp =geopandas.GeoDataFrame(geometry=intersections)\n",
    "gp.to_file(\"inters.gpkg\", driver=\"GPKG\")"
   ]
  },
  {
   "cell_type": "code",
   "execution_count": 36,
   "metadata": {},
   "outputs": [
    {
     "ename": "TypeError",
     "evalue": "unsupported operand type(s) for +: 'Polygon' and 'Polygon'",
     "output_type": "error",
     "traceback": [
      "\u001b[0;31m---------------------------------------------------------------------------\u001b[0m",
      "\u001b[0;31mTypeError\u001b[0m                                 Traceback (most recent call last)",
      "\u001b[0;32m<ipython-input-36-223ca3a6f21f>\u001b[0m in \u001b[0;36m<module>\u001b[0;34m\u001b[0m\n\u001b[0;32m----> 1\u001b[0;31m \u001b[0mfilter_polygons\u001b[0m\u001b[0;34m(\u001b[0m\u001b[0mp1\u001b[0m\u001b[0;34m.\u001b[0m\u001b[0mintersection\u001b[0m\u001b[0;34m(\u001b[0m\u001b[0mp2\u001b[0m\u001b[0;34m)\u001b[0m\u001b[0;34m)\u001b[0m \u001b[0;34m+\u001b[0m \u001b[0mp1\u001b[0m\u001b[0;34m\u001b[0m\u001b[0;34m\u001b[0m\u001b[0m\n\u001b[0m",
      "\u001b[0;31mTypeError\u001b[0m: unsupported operand type(s) for +: 'Polygon' and 'Polygon'"
     ]
    }
   ],
   "source": [
    "filter_polygons(p1.intersection(p2)) "
   ]
  },
  {
   "cell_type": "code",
   "execution_count": 5,
   "metadata": {
    "lines_to_next_cell": 2
   },
   "outputs": [
    {
     "name": "stderr",
     "output_type": "stream",
     "text": [
      "/usr/lib/python3.8/site-packages/numpy/core/shape_base.py:122: ShapelyDeprecationWarning: The array interface is deprecated and will no longer work in Shapely 2.0. Convert the '.coords' to a numpy array instead.\n",
      "  ary = asanyarray(ary)\n",
      "/home/luca/.local/lib/python3.8/site-packages/topojson/ops.py:544: ShapelyDeprecationWarning: Setting the 'coords' to mutate a Geometry in place is deprecated, and will not be possible any more in Shapely 2.0\n",
      "  ls.coords = ls_xy[bool_slice]\n"
     ]
    }
   ],
   "source": [
    "tj = topojson.Topology(polygons)"
   ]
  },
  {
   "cell_type": "code",
   "execution_count": 6,
   "metadata": {},
   "outputs": [
    {
     "data": {
      "text/plain": [
       "1206"
      ]
     },
     "execution_count": 6,
     "metadata": {},
     "output_type": "execute_result"
    }
   ],
   "source": [
    "len(tj.output[\"arcs\"])"
   ]
  },
  {
   "cell_type": "code",
   "execution_count": 7,
   "metadata": {},
   "outputs": [
    {
     "name": "stdout",
     "output_type": "stream",
     "text": [
      "1206\n"
     ]
    }
   ],
   "source": [
    "\n",
    "\n",
    "out = extract_numpy_arcs(tj)\n",
    "import shapely\n",
    "from shapely.geometry import asLineString\n",
    "glines = [asLineString(e) for e in out]\n",
    "asg = geopandas.GeoDataFrame(geometry=glines)"
   ]
  },
  {
   "cell_type": "code",
   "execution_count": 8,
   "metadata": {
    "lines_to_next_cell": 2
   },
   "outputs": [
    {
     "name": "stderr",
     "output_type": "stream",
     "text": [
      "<ipython-input-8-955a0c5bd73a>:3: ShapelyDeprecationWarning: The proxy geometries (through the 'asShape()', 'asLineString()' or 'LineStringAdapter()' constructors) are deprecated and will be removed in Shapely 2.0. Use the 'shape()' function or the standard 'LineString()' constructor instead.\n",
      "  glines = [asLineString(e) for e in out]\n"
     ]
    },
    {
     "data": {
      "image/png": "[encoded data removed]",
      "text/plain": [
       "<Figure size 432x288 with 1 Axes>"
      ]
     },
     "metadata": {
      "needs_background": "light"
     },
     "output_type": "display_data"
    }
   ],
   "source": [
    "\n",
    "asg.plot()\n",
    "show()\n",
    "\n",
    "asg.to_file(\"lines.gpkg\", layer=\"lines\", driver=\"GPKG\")"
   ]
  },
  {
   "cell_type": "code",
   "execution_count": null,
   "metadata": {},
   "outputs": [],
   "source": [
    "import itertools\n",
    "for l1, l2 in itertools.combinations(asg.geometry, 2):\n",
    "    if l1.overlaps(l2):\n",
    "        print(\"o\")\n",
    "        a, b = l1, l2"
   ]
  },
  {
   "cell_type": "code",
   "execution_count": null,
   "metadata": {},
   "outputs": [],
   "source": []
  },
  {
   "cell_type": "code",
   "execution_count": null,
   "metadata": {},
   "outputs": [],
   "source": []
  }
 ],
 "metadata": {
  "jupytext": {
   "cell_metadata_filter": "all",
   "notebook_metadata_filter": "all,-language_info",
   "text_representation": {
    "extension": ".py",
    "format_name": "percent",
    "format_version": "1.3",
    "jupytext_version": "1.5.2"
   }
  },
  "kernelspec": {
   "display_name": "Python 3",
   "language": "python",
   "name": "python3"
  },
  "language_info": {
   "codemirror_mode": {
    "name": "ipython",
    "version": 3
   },
   "file_extension": ".py",
   "mimetype": "text/x-python",
   "name": "python",
   "nbconvert_exporter": "python",
   "pygments_lexer": "ipython3",
   "version": "3.8.5"
  }
 },
 "nbformat": 4,
 "nbformat_minor": 4
}
